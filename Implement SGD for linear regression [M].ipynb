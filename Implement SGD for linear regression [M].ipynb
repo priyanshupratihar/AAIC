{
 "cells": [
  {
   "cell_type": "code",
   "execution_count": 127,
   "metadata": {
    "collapsed": true
   },
   "outputs": [],
   "source": [
    "import numpy as np\n",
    "import pandas as pd\n",
    "import pdb"
   ]
  },
  {
   "cell_type": "code",
   "execution_count": 596,
   "metadata": {
    "collapsed": true
   },
   "outputs": [],
   "source": [
    "class LinearRegression():\n",
    "    \n",
    "    def __init__(self, fit_intercept=True, copy_X=True):\n",
    "        self.params = {\"fit_intercept\" : fit_intercept, \"copy_X\" : copy_X}\n",
    "        \n",
    "    def fit(self, X, y, n_ite):\n",
    "        \"\"\"Fit model to training data\"\"\"\n",
    "        n_samples = X.shape[0]\n",
    "        n_features = X.shape[1]\n",
    "        y=np.reshape(y, (-1,1))\n",
    "        self.coef_ = np.zeros((n_features,1), dtype=float)\n",
    "        self.intercept_ = 0\n",
    "        \n",
    "        if self.params['copy_X']:\n",
    "            copy_x = np.copy(X)\n",
    "            \n",
    "        r=.0001\n",
    "        batch_size=int(n_samples/100)\n",
    "        \n",
    "        i=0\n",
    "        while i<n_ite:\n",
    "            #r=float(r0/np.power(3,i))\n",
    "            indices=np.random.randint(n_samples, size=batch_size)\n",
    "            \n",
    "            term1=y[indices]*copy_x[indices]\n",
    "            term2=np.dot(copy_x[indices], self.coef_)*copy_x[indices]\n",
    "            term3=self.intercept_*copy_x[indices]\n",
    "\n",
    "            gradient_w=np.reshape(np.sum(2*(term1-term2-term3), axis=0), (n_features, 1))/n_samples\n",
    "            #pdb.set_trace()\n",
    "\n",
    "            coef_prev=self.coef_\n",
    "            self.coef_=self.coef_ + r*gradient_w\n",
    "            \n",
    "            \n",
    "            term1=y[indices]\n",
    "            term2=np.dot(copy_x[indices], coef_prev)\n",
    "            term3=self.intercept_\n",
    "\n",
    "            gradient_b=np.sum(2*(term1-term2-term3))/n_samples\n",
    "\n",
    "            intercept_prev=self.intercept_\n",
    "            self.intercept_=self.intercept_ + r * gradient_b\n",
    "            \n",
    "            i+=1\n",
    "        \n",
    "        self.i_=i\n",
    "        return self\n",
    "    \n",
    "    def predict(self, X):\n",
    "        return np.dot(X, self.coef_)+self.intercept_\n",
    "    \n",
    "    def get_params(self):\n",
    "        return self.params\n",
    "    \n",
    "    def score(self, X, y):\n",
    "        \"\"\"Calculate coefficient of determination R^2\"\"\"\n",
    "        predictions = self.predict(X)\n",
    "        u = np.sum((y-predictions)**2)\n",
    "        mean=np.mean(y)\n",
    "        v=np.sum((y-mean)**2)\n",
    "        return 1-float(u/v)"
   ]
  },
  {
   "cell_type": "code",
   "execution_count": 437,
   "metadata": {
    "collapsed": true
   },
   "outputs": [],
   "source": [
    "from sklearn.datasets import load_boston\n",
    "boston = load_boston()\n",
    "import pandas as pd\n",
    "bos = pd.DataFrame(boston.data)\n",
    "bos['PRICE'] = boston.target\n",
    "\n",
    "X = bos.drop('PRICE', axis = 1)\n",
    "Y = bos['PRICE']\n",
    "from sklearn.model_selection import train_test_split\n",
    "X_train, X_test, Y_train, Y_test = train_test_split(X, Y, test_size = 0.33, random_state = 5)\n"
   ]
  },
  {
   "cell_type": "code",
   "execution_count": 615,
   "metadata": {},
   "outputs": [
    {
     "name": "stderr",
     "output_type": "stream",
     "text": [
      "/home/vishal/anaconda3/lib/python3.6/site-packages/numpy/core/fromnumeric.py:57: FutureWarning: reshape is deprecated and will raise in a subsequent release. Please use .values.reshape(...) instead\n",
      "  return getattr(obj, method)(*args, **kwds)\n"
     ]
    }
   ],
   "source": [
    "lm = LinearRegression()\n",
    "lm.fit(X_train, Y_train, 150000)\n",
    "\n",
    "Y_pred = lm.predict(X_test)"
   ]
  },
  {
   "cell_type": "code",
   "execution_count": 616,
   "metadata": {},
   "outputs": [
    {
     "data": {
      "image/png": "[encoded data removed]",
      "text/plain": [
       "<matplotlib.figure.Figure at 0x7fd691ee6e48>"
      ]
     },
     "metadata": {},
     "output_type": "display_data"
    }
   ],
   "source": [
    "delta_y = np.array(Y_test) - Y_pred.ravel();\n",
    "\n",
    "import seaborn as sns;\n",
    "import numpy as np;\n",
    "sns.set_style('whitegrid')\n",
    "sns.kdeplot(np.array(delta_y), bw=0.5)\n",
    "plt.show()"
   ]
  },
  {
   "cell_type": "code",
   "execution_count": 617,
   "metadata": {},
   "outputs": [
    {
     "name": "stderr",
     "output_type": "stream",
     "text": [
      "/home/vishal/anaconda3/lib/python3.6/site-packages/numpy/core/fromnumeric.py:57: FutureWarning: reshape is deprecated and will raise in a subsequent release. Please use .values.reshape(...) instead\n",
      "  return getattr(obj, method)(*args, **kwds)\n"
     ]
    },
    {
     "data": {
      "text/plain": [
       "0.49608642392756375"
      ]
     },
     "execution_count": 617,
     "metadata": {},
     "output_type": "execute_result"
    }
   ],
   "source": [
    "lm.score(X_test, np.reshape(Y_test, (-1,1)))"
   ]
  },
  {
   "cell_type": "markdown",
   "metadata": {},
   "source": [
    "## Conclusion\n",
    "Most of the errors are distributed around 0. R^2 score is close to 0.5 which is a good enough value"
   ]
  }
 ],
 "metadata": {
  "kernelspec": {
   "display_name": "Python 3",
   "language": "python",
   "name": "python3"
  },
  "language_info": {
   "codemirror_mode": {
    "name": "ipython",
    "version": 3
   },
   "file_extension": ".py",
   "mimetype": "text/x-python",
   "name": "python",
   "nbconvert_exporter": "python",
   "pygments_lexer": "ipython3",
   "version": "3.6.3"
  }
 },
 "nbformat": 4,
 "nbformat_minor": 2
}
