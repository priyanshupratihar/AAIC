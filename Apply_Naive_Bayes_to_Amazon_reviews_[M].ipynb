{
 "cells": [
  {
   "cell_type": "code",
   "execution_count": 0,
   "metadata": {
    "colab": {
     "autoexec": {
      "startup": false,
      "wait_interval": 0
     }
    },
    "colab_type": "code",
    "collapsed": true,
    "id": "KQe3CwwsXRNX"
   },
   "outputs": [],
   "source": [
    "!pip install -U -q PyDrive"
   ]
  },
  {
   "cell_type": "code",
   "execution_count": 0,
   "metadata": {
    "colab": {
     "autoexec": {
      "startup": false,
      "wait_interval": 0
     }
    },
    "colab_type": "code",
    "collapsed": true,
    "id": "wDMLRxQNcHc9"
   },
   "outputs": [],
   "source": [
    "from pydrive.auth import GoogleAuth\n",
    "from pydrive.drive import GoogleDrive\n",
    "from google.colab import auth\n",
    "from oauth2client.client import GoogleCredentials\n",
    " \n",
    "# 1. Authenticate and create the PyDrive client.\n",
    "auth.authenticate_user()\n",
    "gauth = GoogleAuth()\n",
    "gauth.credentials = GoogleCredentials.get_application_default()\n",
    "drive = GoogleDrive(gauth)"
   ]
  },
  {
   "cell_type": "code",
   "execution_count": 3,
   "metadata": {
    "colab": {
     "autoexec": {
      "startup": false,
      "wait_interval": 0
     },
     "base_uri": "https://localhost:8080/",
     "height": 153
    },
    "colab_type": "code",
    "executionInfo": {
     "elapsed": 1469,
     "status": "ok",
     "timestamp": 1527396122572,
     "user": {
      "displayName": "Vishal Singh",
      "photoUrl": "https://lh3.googleusercontent.com/a/default-user=s128",
      "userId": "104172755534144843354"
     },
     "user_tz": -330
    },
    "id": "J1Ww6ylZk_ZC",
    "outputId": "7c8b1316-7c0c-4dce-b5f2-6a75ad08f688"
   },
   "outputs": [
    {
     "name": "stdout",
     "output_type": "stream",
     "text": [
      "title: Apply Naive Bayes to Amazon reviews [M].ipynb, id: 1qPxAZeYQUM-eqaKnOSM5ubK2IPIVmdyo\n",
      "title: clean_final.sqlite, id: 1T0HyUqaVFyD8HfIQEM6WN8jF8SpEOsAo\n",
      "title: KNN on Credit Card fraud detection.ipynb, id: 1CkA-RBfXqvubKkQrpnjbYUKVsC7VHlTl\n",
      "title: creditcard.csv, id: 1VpeqlS0lPVrlzlMIqvQTzc3Pno_Cj4SV\n",
      "title: creditcard.csv, id: 1bnZktEq3N_5wjoCH85oIXHxNwXUW_jx-\n",
      "title: Untitled, id: 1K0wwkizWx3WO8d-zw-YewWIUrPdINYmp\n",
      "title: final.sqlite, id: 1OzLc3k6-T55I-XRMq47ERyCbQbVw4caF\n",
      "title: HeavyComputations.ipynb, id: 1aBORe3gqeFY-iNhzMtr-TIkzEyEvFxcG\n"
     ]
    }
   ],
   "source": [
    "file_list = drive.ListFile({'q': \"'1pbLvjcsi6UtFm3sPciCJGbCG4NK3uyuS' in parents and trashed=false\"}).GetList()\n",
    "for file1 in file_list:\n",
    "  print('title: %s, id: %s' % (file1['title'], file1['id']))"
   ]
  },
  {
   "cell_type": "code",
   "execution_count": 0,
   "metadata": {
    "colab": {
     "autoexec": {
      "startup": false,
      "wait_interval": 0
     }
    },
    "colab_type": "code",
    "collapsed": true,
    "id": "FrFdboWmrn7i"
   },
   "outputs": [],
   "source": [
    "sql = drive.CreateFile({'id': '1OzLc3k6-T55I-XRMq47ERyCbQbVw4caF'})\n",
    "sql.GetContentFile('final.sqlite')"
   ]
  },
  {
   "cell_type": "code",
   "execution_count": 0,
   "metadata": {
    "colab": {
     "autoexec": {
      "startup": false,
      "wait_interval": 0
     }
    },
    "colab_type": "code",
    "collapsed": true,
    "id": "wcl2o9Mcr-Wf"
   },
   "outputs": [],
   "source": [
    "%matplotlib inline\n",
    "import pandas as pd\n",
    "from sklearn.feature_extraction.text import TfidfVectorizer\n",
    "import numpy as np\n",
    "import matplotlib.pyplot as plt\n",
    "import sqlite3"
   ]
  },
  {
   "cell_type": "code",
   "execution_count": 0,
   "metadata": {
    "colab": {
     "autoexec": {
      "startup": false,
      "wait_interval": 0
     }
    },
    "colab_type": "code",
    "collapsed": true,
    "id": "r6KqcwsEwmPi"
   },
   "outputs": [],
   "source": [
    "con = sqlite3.connect('final.sqlite') # this is cleaned dataset\n",
    "final = pd.read_sql_query(\"\"\"\n",
    "SELECT Score, Text_not_included\n",
    "FROM reviews\n",
    "\"\"\", con)"
   ]
  },
  {
   "cell_type": "code",
   "execution_count": 65,
   "metadata": {
    "colab": {
     "autoexec": {
      "startup": false,
      "wait_interval": 0
     },
     "base_uri": "https://localhost:8080/",
     "height": 34
    },
    "colab_type": "code",
    "executionInfo": {
     "elapsed": 1305,
     "status": "ok",
     "timestamp": 1527398054047,
     "user": {
      "displayName": "Vishal Singh",
      "photoUrl": "https://lh3.googleusercontent.com/a/default-user=s128",
      "userId": "104172755534144843354"
     },
     "user_tz": -330
    },
    "id": "7HaS3Dky-QKi",
    "outputId": "9043777f-8c4f-46ab-9274-7a2b5bed0e6b"
   },
   "outputs": [
    {
     "data": {
      "text/plain": [
       "23953"
      ]
     },
     "execution_count": 65,
     "metadata": {
      "tags": []
     },
     "output_type": "execute_result"
    }
   ],
   "source": [
    "len(final)"
   ]
  },
  {
   "cell_type": "code",
   "execution_count": 0,
   "metadata": {
    "colab": {
     "autoexec": {
      "startup": false,
      "wait_interval": 0
     }
    },
    "colab_type": "code",
    "collapsed": true,
    "id": "low8qfgl_TGb"
   },
   "outputs": [],
   "source": [
    "for i, seq in enumerate(final['Text_not_included']):\n",
    "  final['Text_not_included'][i]=final['Text_not_included'][i].decode('UTF-8')"
   ]
  },
  {
   "cell_type": "code",
   "execution_count": 0,
   "metadata": {
    "colab": {
     "autoexec": {
      "startup": false,
      "wait_interval": 0
     }
    },
    "colab_type": "code",
    "collapsed": true,
    "id": "-nClZ7GExAn1"
   },
   "outputs": [],
   "source": [
    "from sklearn.model_selection import train_test_split"
   ]
  },
  {
   "cell_type": "code",
   "execution_count": 0,
   "metadata": {
    "colab": {
     "autoexec": {
      "startup": false,
      "wait_interval": 0
     }
    },
    "colab_type": "code",
    "collapsed": true,
    "id": "wYuvI_StyVxh"
   },
   "outputs": [],
   "source": [
    "X_train, X_test, y_train , y_test = train_test_split(final['Text_not_included'], final['Score'], test_size=0.2, shuffle=False)"
   ]
  },
  {
   "cell_type": "code",
   "execution_count": 0,
   "metadata": {
    "colab": {
     "autoexec": {
      "startup": false,
      "wait_interval": 0
     }
    },
    "colab_type": "code",
    "collapsed": true,
    "id": "MJe5nO3W96tE"
   },
   "outputs": [],
   "source": [
    "X_train, X_val, y_train, y_val = train_test_split(X_train, y_train, test_size=0.25, shuffle=False)"
   ]
  },
  {
   "cell_type": "code",
   "execution_count": 80,
   "metadata": {
    "colab": {
     "autoexec": {
      "startup": false,
      "wait_interval": 0
     },
     "base_uri": "https://localhost:8080/",
     "height": 34
    },
    "colab_type": "code",
    "executionInfo": {
     "elapsed": 1068,
     "status": "ok",
     "timestamp": 1527398260886,
     "user": {
      "displayName": "Vishal Singh",
      "photoUrl": "https://lh3.googleusercontent.com/a/default-user=s128",
      "userId": "104172755534144843354"
     },
     "user_tz": -330
    },
    "id": "ylWYIDdc-C8p",
    "outputId": "ea63b22a-278c-4641-9273-76ce865747b1"
   },
   "outputs": [
    {
     "data": {
      "text/plain": [
       "pandas.core.series.Series"
      ]
     },
     "execution_count": 80,
     "metadata": {
      "tags": []
     },
     "output_type": "execute_result"
    }
   ],
   "source": [
    "type(y_train)"
   ]
  },
  {
   "cell_type": "code",
   "execution_count": 12,
   "metadata": {
    "colab": {
     "autoexec": {
      "startup": false,
      "wait_interval": 0
     },
     "base_uri": "https://localhost:8080/",
     "height": 207
    },
    "colab_type": "code",
    "executionInfo": {
     "elapsed": 3589,
     "status": "ok",
     "timestamp": 1527396165849,
     "user": {
      "displayName": "Vishal Singh",
      "photoUrl": "https://lh3.googleusercontent.com/a/default-user=s128",
      "userId": "104172755534144843354"
     },
     "user_tz": -330
    },
    "id": "9ZifuvI8Ar_g",
    "outputId": "53e6c98e-6662-436a-c737-2f9aec40f2c2"
   },
   "outputs": [
    {
     "name": "stdout",
     "output_type": "stream",
     "text": [
      "Collecting imblearn\n",
      "  Downloading https://files.pythonhosted.org/packages/81/a7/4179e6ebfd654bd0eac0b9c06125b8b4c96a9d0a8ff9e9507eb2a26d2d7e/imblearn-0.0-py2.py3-none-any.whl\n",
      "Collecting imbalanced-learn (from imblearn)\n",
      "\u001b[?25l  Downloading https://files.pythonhosted.org/packages/80/a4/900463a3c0af082aed9c5a43f4ec317a9469710c5ef80496c9abc26ed0ca/imbalanced_learn-0.3.3-py3-none-any.whl (144kB)\n",
      "\u001b[K    100% |████████████████████████████████| 153kB 7.2MB/s \n",
      "\u001b[?25hRequirement already satisfied: numpy in /usr/local/lib/python3.6/dist-packages (from imbalanced-learn->imblearn) (1.14.3)\n",
      "Requirement already satisfied: scipy in /usr/local/lib/python3.6/dist-packages (from imbalanced-learn->imblearn) (0.19.1)\n",
      "Requirement already satisfied: scikit-learn in /usr/local/lib/python3.6/dist-packages (from imbalanced-learn->imblearn) (0.19.1)\n",
      "Installing collected packages: imbalanced-learn, imblearn\n",
      "Successfully installed imbalanced-learn-0.3.3 imblearn-0.0\n"
     ]
    }
   ],
   "source": [
    "!pip install imblearn"
   ]
  },
  {
   "cell_type": "code",
   "execution_count": 0,
   "metadata": {
    "colab": {
     "autoexec": {
      "startup": false,
      "wait_interval": 0
     }
    },
    "colab_type": "code",
    "collapsed": true,
    "id": "0M7l5VX5BFii"
   },
   "outputs": [],
   "source": [
    "from sklearn.feature_extraction.text import CountVectorizer"
   ]
  },
  {
   "cell_type": "code",
   "execution_count": 100,
   "metadata": {
    "colab": {
     "autoexec": {
      "startup": false,
      "wait_interval": 0
     },
     "base_uri": "https://localhost:8080/",
     "height": 119
    },
    "colab_type": "code",
    "executionInfo": {
     "elapsed": 3273,
     "status": "ok",
     "timestamp": 1527400191485,
     "user": {
      "displayName": "Vishal Singh",
      "photoUrl": "https://lh3.googleusercontent.com/a/default-user=s128",
      "userId": "104172755534144843354"
     },
     "user_tz": -330
    },
    "id": "H2pyxCARCtk_",
    "outputId": "a8b56279-8064-4180-c53b-66b5494b5ce9"
   },
   "outputs": [
    {
     "data": {
      "text/plain": [
       "CountVectorizer(analyzer='word', binary=False, decode_error='strict',\n",
       "        dtype=<class 'numpy.int64'>, encoding='utf-8', input='content',\n",
       "        lowercase=True, max_df=1.0, max_features=None, min_df=1,\n",
       "        ngram_range=(1, 2), preprocessor=None, stop_words=None,\n",
       "        strip_accents=None, token_pattern='(?u)\\\\b\\\\w\\\\w+\\\\b',\n",
       "        tokenizer=None, vocabulary=None)"
      ]
     },
     "execution_count": 100,
     "metadata": {
      "tags": []
     },
     "output_type": "execute_result"
    }
   ],
   "source": [
    "bbow = CountVectorizer(ngram_range = (1,2))\n",
    "bbow.fit(X_train)"
   ]
  },
  {
   "cell_type": "code",
   "execution_count": 0,
   "metadata": {
    "colab": {
     "autoexec": {
      "startup": false,
      "wait_interval": 0
     }
    },
    "colab_type": "code",
    "collapsed": true,
    "id": "r1nj9Ol7EpI1"
   },
   "outputs": [],
   "source": [
    "text_vectors = bbow.transform(X_train)"
   ]
  },
  {
   "cell_type": "code",
   "execution_count": 0,
   "metadata": {
    "colab": {
     "autoexec": {
      "startup": false,
      "wait_interval": 0
     }
    },
    "colab_type": "code",
    "collapsed": true,
    "id": "2X8zf-dVAYxk"
   },
   "outputs": [],
   "source": [
    "# Oversampling train set\n",
    "import imblearn\n",
    "over_sampler=imblearn.over_sampling.SMOTE(ratio='minority')\n",
    "X_train_resampled, y_train_resampled = over_sampler.fit_sample(text_vectors, y_train)"
   ]
  },
  {
   "cell_type": "code",
   "execution_count": 103,
   "metadata": {
    "colab": {
     "autoexec": {
      "startup": false,
      "wait_interval": 0
     },
     "base_uri": "https://localhost:8080/",
     "height": 34
    },
    "colab_type": "code",
    "executionInfo": {
     "elapsed": 957,
     "status": "ok",
     "timestamp": 1527400212719,
     "user": {
      "displayName": "Vishal Singh",
      "photoUrl": "https://lh3.googleusercontent.com/a/default-user=s128",
      "userId": "104172755534144843354"
     },
     "user_tz": -330
    },
    "id": "pU92HFjsBBYr",
    "outputId": "a8f45888-0f98-4053-f35e-0e68a295db91"
   },
   "outputs": [
    {
     "data": {
      "text/plain": [
       "True"
      ]
     },
     "execution_count": 103,
     "metadata": {
      "tags": []
     },
     "output_type": "execute_result"
    }
   ],
   "source": [
    "X_train_resampled.get_shape()[0]==y_train_resampled.shape[0]"
   ]
  },
  {
   "cell_type": "code",
   "execution_count": 104,
   "metadata": {
    "colab": {
     "autoexec": {
      "startup": false,
      "wait_interval": 0
     },
     "base_uri": "https://localhost:8080/",
     "height": 34
    },
    "colab_type": "code",
    "executionInfo": {
     "elapsed": 832,
     "status": "ok",
     "timestamp": 1527400214710,
     "user": {
      "displayName": "Vishal Singh",
      "photoUrl": "https://lh3.googleusercontent.com/a/default-user=s128",
      "userId": "104172755534144843354"
     },
     "user_tz": -330
    },
    "id": "6APzSctOGkU6",
    "outputId": "d5d28195-1fe0-4246-dec2-45d632458781"
   },
   "outputs": [
    {
     "data": {
      "text/plain": [
       "True"
      ]
     },
     "execution_count": 104,
     "metadata": {
      "tags": []
     },
     "output_type": "execute_result"
    }
   ],
   "source": [
    "len(y_train_resampled[np.where(y_train_resampled=='positive')])==len(y_train_resampled[np.where(y_train_resampled=='negative')])"
   ]
  },
  {
   "cell_type": "code",
   "execution_count": 105,
   "metadata": {
    "colab": {
     "autoexec": {
      "startup": false,
      "wait_interval": 0
     },
     "base_uri": "https://localhost:8080/",
     "height": 34
    },
    "colab_type": "code",
    "executionInfo": {
     "elapsed": 1071,
     "status": "ok",
     "timestamp": 1527400228585,
     "user": {
      "displayName": "Vishal Singh",
      "photoUrl": "https://lh3.googleusercontent.com/a/default-user=s128",
      "userId": "104172755534144843354"
     },
     "user_tz": -330
    },
    "id": "sOyLya8B8a1C",
    "outputId": "2fb50e16-4bb0-4ec5-cb37-addfe910d64b"
   },
   "outputs": [
    {
     "data": {
      "text/plain": [
       "matrix([[0., 0., 0., ..., 0., 0., 0.]])"
      ]
     },
     "execution_count": 105,
     "metadata": {
      "tags": []
     },
     "output_type": "execute_result"
    }
   ],
   "source": [
    "X_train_resampled.getrow(5).todense()"
   ]
  },
  {
   "cell_type": "code",
   "execution_count": 0,
   "metadata": {
    "colab": {
     "autoexec": {
      "startup": false,
      "wait_interval": 0
     }
    },
    "colab_type": "code",
    "collapsed": true,
    "id": "J_HqM1UVHvLX"
   },
   "outputs": [],
   "source": [
    "text_vectors_val=bbow.transform(X_val)"
   ]
  },
  {
   "cell_type": "code",
   "execution_count": 0,
   "metadata": {
    "colab": {
     "autoexec": {
      "startup": false,
      "wait_interval": 0
     }
    },
    "colab_type": "code",
    "collapsed": true,
    "id": "Xrk63dkZImRj"
   },
   "outputs": [],
   "source": [
    "from sklearn.naive_bayes import BernoulliNB\n",
    "from sklearn.cross_validation import cross_val_score\n",
    "from sklearn.metrics import classification_report, accuracy_score, confusion_matrix"
   ]
  },
  {
   "cell_type": "code",
   "execution_count": 114,
   "metadata": {
    "colab": {
     "autoexec": {
      "startup": false,
      "wait_interval": 0
     },
     "base_uri": "https://localhost:8080/",
     "height": 282
    },
    "colab_type": "code",
    "executionInfo": {
     "elapsed": 863559,
     "status": "ok",
     "timestamp": 1527404005085,
     "user": {
      "displayName": "Vishal Singh",
      "photoUrl": "https://lh3.googleusercontent.com/a/default-user=s128",
      "userId": "104172755534144843354"
     },
     "user_tz": -330
    },
    "id": "pG23U8djOKSN",
    "outputId": "6f11a8a9-106a-4403-efde-be1788c44a92"
   },
   "outputs": [
    {
     "name": "stdout",
     "output_type": "stream",
     "text": [
      "max accuracy 0.8714255896472552 at alpha = 2\n"
     ]
    },
    {
     "data": {
      "image/png": "[encoded data removed]",
      "text/plain": [
       "<matplotlib.figure.Figure at 0x7ff95a789b70>"
      ]
     },
     "metadata": {
      "tags": []
     },
     "output_type": "display_data"
    }
   ],
   "source": [
    "x=[]\n",
    "y=[]\n",
    "for alpha in range(1,5001,1):\n",
    "  nb_clf = BernoulliNB(alpha=alpha, class_prior=[1,1])\n",
    "  nb_clf.fit(X_train_resampled, y_train_resampled)\n",
    "  predictions = nb_clf.predict(text_vectors_val)\n",
    "  accuracy = accuracy_score(y_val, predictions)\n",
    "  x.append(alpha)\n",
    "  y.append(accuracy)\n",
    "\n",
    "plt.plot(x, y, 'go')\n",
    "print('max accuracy {} at alpha = {}'.format(np.max(y), x[np.argmax(y)]))"
   ]
  },
  {
   "cell_type": "code",
   "execution_count": 115,
   "metadata": {
    "colab": {
     "autoexec": {
      "startup": false,
      "wait_interval": 0
     },
     "base_uri": "https://localhost:8080/",
     "height": 34
    },
    "colab_type": "code",
    "executionInfo": {
     "elapsed": 1572,
     "status": "ok",
     "timestamp": 1527404024856,
     "user": {
      "displayName": "Vishal Singh",
      "photoUrl": "https://lh3.googleusercontent.com/a/default-user=s128",
      "userId": "104172755534144843354"
     },
     "user_tz": -330
    },
    "id": "-u8EYHhnFt1d",
    "outputId": "be789c53-bc08-4879-9de1-5d0ff9a230a1"
   },
   "outputs": [
    {
     "name": "stdout",
     "output_type": "stream",
     "text": [
      "max accuracy 0.8714255896472552 at alpha = 2\n"
     ]
    }
   ],
   "source": [
    "print('max accuracy {} at alpha = {}'.format(np.max(y), x[np.argmax(y)]))"
   ]
  },
  {
   "cell_type": "code",
   "execution_count": 0,
   "metadata": {
    "colab": {
     "autoexec": {
      "startup": false,
      "wait_interval": 0
     }
    },
    "colab_type": "code",
    "collapsed": true,
    "id": "D5RFsLGHq3vT"
   },
   "outputs": [],
   "source": [
    "test_vectors=bbow.transform(X_test)"
   ]
  },
  {
   "cell_type": "code",
   "execution_count": 0,
   "metadata": {
    "colab": {
     "autoexec": {
      "startup": false,
      "wait_interval": 0
     }
    },
    "colab_type": "code",
    "collapsed": true,
    "id": "r-BK_2H7mYvi"
   },
   "outputs": [],
   "source": [
    "nb_clf = BernoulliNB(alpha=2, class_prior=[1,1])\n",
    "nb_clf.fit(X_train_resampled, y_train_resampled)\n",
    "predictions = nb_clf.predict(test_vectors)\n",
    "accuracy = accuracy_score(y_test, predictions)"
   ]
  },
  {
   "cell_type": "code",
   "execution_count": 118,
   "metadata": {
    "colab": {
     "autoexec": {
      "startup": false,
      "wait_interval": 0
     },
     "base_uri": "https://localhost:8080/",
     "height": 34
    },
    "colab_type": "code",
    "executionInfo": {
     "elapsed": 924,
     "status": "ok",
     "timestamp": 1527404030069,
     "user": {
      "displayName": "Vishal Singh",
      "photoUrl": "https://lh3.googleusercontent.com/a/default-user=s128",
      "userId": "104172755534144843354"
     },
     "user_tz": -330
    },
    "id": "FOkvqq_wnEjy",
    "outputId": "f8d910f5-534a-4c46-9667-0981cc9c7f9f"
   },
   "outputs": [
    {
     "data": {
      "text/plain": [
       "0.8668336464203715"
      ]
     },
     "execution_count": 118,
     "metadata": {
      "tags": []
     },
     "output_type": "execute_result"
    }
   ],
   "source": [
    "accuracy"
   ]
  },
  {
   "cell_type": "code",
   "execution_count": 119,
   "metadata": {
    "colab": {
     "autoexec": {
      "startup": false,
      "wait_interval": 0
     },
     "base_uri": "https://localhost:8080/",
     "height": 136
    },
    "colab_type": "code",
    "executionInfo": {
     "elapsed": 1081,
     "status": "ok",
     "timestamp": 1527404031438,
     "user": {
      "displayName": "Vishal Singh",
      "photoUrl": "https://lh3.googleusercontent.com/a/default-user=s128",
      "userId": "104172755534144843354"
     },
     "user_tz": -330
    },
    "id": "DATvT0xmsk1e",
    "outputId": "b5dc3ac3-5918-4790-d769-68c3035a7789"
   },
   "outputs": [
    {
     "name": "stdout",
     "output_type": "stream",
     "text": [
      "             precision    recall  f1-score   support\n",
      "\n",
      "   negative       0.71      0.22      0.34       733\n",
      "   positive       0.88      0.98      0.93      4058\n",
      "\n",
      "avg / total       0.85      0.87      0.84      4791\n",
      "\n"
     ]
    }
   ],
   "source": [
    "print(classification_report(y_test, predictions))"
   ]
  },
  {
   "cell_type": "code",
   "execution_count": 120,
   "metadata": {
    "colab": {
     "autoexec": {
      "startup": false,
      "wait_interval": 0
     },
     "base_uri": "https://localhost:8080/",
     "height": 51
    },
    "colab_type": "code",
    "executionInfo": {
     "elapsed": 1044,
     "status": "ok",
     "timestamp": 1527404032658,
     "user": {
      "displayName": "Vishal Singh",
      "photoUrl": "https://lh3.googleusercontent.com/a/default-user=s128",
      "userId": "104172755534144843354"
     },
     "user_tz": -330
    },
    "id": "ZctpGptyCD4n",
    "outputId": "1d2d1088-3a5a-4154-b027-ed3d0a2fa8ec"
   },
   "outputs": [
    {
     "name": "stdout",
     "output_type": "stream",
     "text": [
      "[[ 163   68]\n",
      " [ 570 3990]]\n"
     ]
    }
   ],
   "source": [
    "print(confusion_matrix(y_test, predictions).T)"
   ]
  },
  {
   "cell_type": "code",
   "execution_count": 135,
   "metadata": {
    "colab": {
     "autoexec": {
      "startup": false,
      "wait_interval": 0
     },
     "base_uri": "https://localhost:8080/",
     "height": 34
    },
    "colab_type": "code",
    "executionInfo": {
     "elapsed": 1189,
     "status": "ok",
     "timestamp": 1527406083050,
     "user": {
      "displayName": "Vishal Singh",
      "photoUrl": "https://lh3.googleusercontent.com/a/default-user=s128",
      "userId": "104172755534144843354"
     },
     "user_tz": -330
    },
    "id": "trquEwGMHdXC",
    "outputId": "ab73d699-9b87-4508-d157-a96805764efe"
   },
   "outputs": [
    {
     "data": {
      "text/plain": [
       "array(['negative', 'positive'], dtype='<U8')"
      ]
     },
     "execution_count": 135,
     "metadata": {
      "tags": []
     },
     "output_type": "execute_result"
    }
   ],
   "source": [
    "nb_clf.classes_"
   ]
  },
  {
   "cell_type": "code",
   "execution_count": 134,
   "metadata": {
    "colab": {
     "autoexec": {
      "startup": false,
      "wait_interval": 0
     },
     "base_uri": "https://localhost:8080/",
     "height": 34
    },
    "colab_type": "code",
    "executionInfo": {
     "elapsed": 1145,
     "status": "ok",
     "timestamp": 1527406055967,
     "user": {
      "displayName": "Vishal Singh",
      "photoUrl": "https://lh3.googleusercontent.com/a/default-user=s128",
      "userId": "104172755534144843354"
     },
     "user_tz": -330
    },
    "id": "e2sjdlF2YJ7h",
    "outputId": "1b94cd5d-8e1d-4e0a-a36a-bf6ca978c77f"
   },
   "outputs": [
    {
     "data": {
      "text/plain": [
       "(23972, 303207)"
      ]
     },
     "execution_count": 134,
     "metadata": {
      "tags": []
     },
     "output_type": "execute_result"
    }
   ],
   "source": [
    "X_train_resampled.shape"
   ]
  },
  {
   "cell_type": "code",
   "execution_count": 138,
   "metadata": {
    "colab": {
     "autoexec": {
      "startup": false,
      "wait_interval": 0
     },
     "base_uri": "https://localhost:8080/",
     "height": 34
    },
    "colab_type": "code",
    "executionInfo": {
     "elapsed": 1350,
     "status": "ok",
     "timestamp": 1527406131969,
     "user": {
      "displayName": "Vishal Singh",
      "photoUrl": "https://lh3.googleusercontent.com/a/default-user=s128",
      "userId": "104172755534144843354"
     },
     "user_tz": -330
    },
    "id": "X8rs7EMZYgWd",
    "outputId": "42c3884e-eefb-4a78-9ae1-e0fda2255762"
   },
   "outputs": [
    {
     "data": {
      "text/plain": [
       "303207"
      ]
     },
     "execution_count": 138,
     "metadata": {
      "tags": []
     },
     "output_type": "execute_result"
    }
   ],
   "source": [
    "len(nb_clf.feature_count_[0])"
   ]
  },
  {
   "cell_type": "code",
   "execution_count": 0,
   "metadata": {
    "colab": {
     "autoexec": {
      "startup": false,
      "wait_interval": 0
     }
    },
    "colab_type": "code",
    "collapsed": true,
    "id": "NTgfRDCnf6jt"
   },
   "outputs": [],
   "source": [
    "p_wi_given_y_negative = np.array(np.reshape(nb_clf.feature_log_prob_[0], [-1]))"
   ]
  },
  {
   "cell_type": "code",
   "execution_count": 0,
   "metadata": {
    "colab": {
     "autoexec": {
      "startup": false,
      "wait_interval": 0
     }
    },
    "colab_type": "code",
    "collapsed": true,
    "id": "SYKRd7oggg68"
   },
   "outputs": [],
   "source": [
    "p_wi_given_y_positive = np.array(np.reshape(nb_clf.feature_log_prob_[1], [-1]))"
   ]
  },
  {
   "cell_type": "code",
   "execution_count": 0,
   "metadata": {
    "colab": {
     "autoexec": {
      "startup": false,
      "wait_interval": 0
     }
    },
    "colab_type": "code",
    "collapsed": true,
    "id": "RHobQHIhgDhC"
   },
   "outputs": [],
   "source": [
    "feat_indices_negative=np.argsort(-p_wi_given_y_negative)\n",
    "feat_indices_positive=np.argsort(-p_wi_given_y_positive)"
   ]
  },
  {
   "cell_type": "code",
   "execution_count": 154,
   "metadata": {
    "colab": {
     "autoexec": {
      "startup": false,
      "wait_interval": 0
     },
     "base_uri": "https://localhost:8080/",
     "height": 34
    },
    "colab_type": "code",
    "executionInfo": {
     "elapsed": 1102,
     "status": "ok",
     "timestamp": 1527407002203,
     "user": {
      "displayName": "Vishal Singh",
      "photoUrl": "https://lh3.googleusercontent.com/a/default-user=s128",
      "userId": "104172755534144843354"
     },
     "user_tz": -330
    },
    "id": "PfNaQjakhPUo",
    "outputId": "2f4daadb-f738-4afb-ef57-b40b2fe88a1a"
   },
   "outputs": [
    {
     "data": {
      "text/plain": [
       "list"
      ]
     },
     "execution_count": 154,
     "metadata": {
      "tags": []
     },
     "output_type": "execute_result"
    }
   ],
   "source": [
    "type(bbow.get_feature_names())"
   ]
  },
  {
   "cell_type": "code",
   "execution_count": 0,
   "metadata": {
    "colab": {
     "autoexec": {
      "startup": false,
      "wait_interval": 0
     }
    },
    "colab_type": "code",
    "collapsed": true,
    "id": "d3O_tG8_hCHx"
   },
   "outputs": [],
   "source": [
    "important_features_negative = np.array(bbow.get_feature_names())[feat_indices_negative]\n",
    "important_features_positive = np.array(bbow.get_feature_names())[feat_indices_positive]"
   ]
  },
  {
   "cell_type": "code",
   "execution_count": 164,
   "metadata": {
    "colab": {
     "autoexec": {
      "startup": false,
      "wait_interval": 0
     },
     "base_uri": "https://localhost:8080/",
     "height": 272
    },
    "colab_type": "code",
    "executionInfo": {
     "elapsed": 1114,
     "status": "ok",
     "timestamp": 1527407412604,
     "user": {
      "displayName": "Vishal Singh",
      "photoUrl": "https://lh3.googleusercontent.com/a/default-user=s128",
      "userId": "104172755534144843354"
     },
     "user_tz": -330
    },
    "id": "Nzoj1KvHhzFo",
    "outputId": "79650669-7239-440a-df22-20c99cd5994c"
   },
   "outputs": [
    {
     "data": {
      "text/plain": [
       "array(['not', 'like', 'product', 'tast', 'would', 'buy', 'tri', 'get',\n",
       "       'one', 'price', 'good', 'flavor', 'dont', 'use', 'review', 'way',\n",
       "       'purchas', 'made', 'food', 'even', 'store', 'great', 'time',\n",
       "       'order', 'eat', 'dog', 'box', 'make', 'would not', 'much',\n",
       "       'bought', 'look', 'love', 'bag', 'think', 'amazon', 'first',\n",
       "       'realli', 'disappoint', 'could', 'better', 'also', 'didnt',\n",
       "       'foster', 'price foster', 'smith', 'foster smith', 'want', 'say',\n",
       "       'bad', 'littl', 'chip', 'okay', 'packag', 'know', 'give', 'well',\n",
       "       'expens', 'thought', 'got', 'never', 'differ', 'found', 'brand',\n",
       "       'thing', 'someth', 'not way', 'two', 'okay would', 'way buy',\n",
       "       'treat', 'ive', 'local', 'howev', 'away', 'quit', 'find', 'day',\n",
       "       'money', 'open', 'still', 'receiv', 'back', 'tast like', 'ingredi',\n",
       "       'recommend', 'year', 'sugar', 'product made', 'item', 'drink',\n",
       "       'old', 'mix', 'mani', 'great review', 'enjoy', 'contain',\n",
       "       'review product', 'per', 'lot'], dtype='<U33')"
      ]
     },
     "execution_count": 164,
     "metadata": {
      "tags": []
     },
     "output_type": "execute_result"
    }
   ],
   "source": [
    "important_features_negative[0:100]"
   ]
  },
  {
   "cell_type": "code",
   "execution_count": 165,
   "metadata": {
    "colab": {
     "autoexec": {
      "startup": false,
      "wait_interval": 0
     },
     "base_uri": "https://localhost:8080/",
     "height": 255
    },
    "colab_type": "code",
    "executionInfo": {
     "elapsed": 1082,
     "status": "ok",
     "timestamp": 1527407414508,
     "user": {
      "displayName": "Vishal Singh",
      "photoUrl": "https://lh3.googleusercontent.com/a/default-user=s128",
      "userId": "104172755534144843354"
     },
     "user_tz": -330
    },
    "id": "0GEnyCjLiDQe",
    "outputId": "01191dd1-f810-4add-ae18-2aaa9348548c"
   },
   "outputs": [
    {
     "data": {
      "text/plain": [
       "array(['not', 'like', 'love', 'good', 'tast', 'great', 'flavor', 'one',\n",
       "       'tri', 'use', 'product', 'get', 'make', 'food', 'buy', 'would',\n",
       "       'time', 'eat', 'best', 'realli', 'amazon', 'also', 'much', 'find',\n",
       "       'price', 'dont', 'well', 'littl', 'recommend', 'order', 'store',\n",
       "       'dog', 'even', 'better', 'ive', 'year', 'bag', 'high', 'tea',\n",
       "       'day', 'give', 'mix', 'treat', 'sweet', 'look', 'first', 'want',\n",
       "       'found', 'favorit', 'chip', 'enjoy', 'drink', 'delici', 'think',\n",
       "       'way', 'keep', 'work', 'thing', 'bit', 'brand', 'need', 'made',\n",
       "       'lot', 'sinc', 'nice', 'know', 'sugar', 'purchas', 'pack',\n",
       "       'bought', 'coffe', 'come', 'snack', 'say', 'could', 'perfect',\n",
       "       'still', 'two', 'packag', 'add', 'everi', 'mani', 'alway',\n",
       "       'without', 'never', 'healthi', 'differ', 'cant', 'take', 'seem',\n",
       "       'local', 'box', 'easi', 'wonder', 'ever', 'water', 'right', 'got',\n",
       "       'put', 'fresh'], dtype='<U33')"
      ]
     },
     "execution_count": 165,
     "metadata": {
      "tags": []
     },
     "output_type": "execute_result"
    }
   ],
   "source": [
    "important_features_positive[0:100]"
   ]
  },
  {
   "cell_type": "markdown",
   "metadata": {
    "colab_type": "text",
    "id": "5XtgmJ5VknQY"
   },
   "source": [
    "## Results\n",
    "\n",
    "Optimal alpha = 2<br><br>\n",
    "Top 100 features found most commonly in negative and positive reviews are enumerated above<br><br>\n",
    "Accuracy on test set = 86.68%<br>\n",
    "TPR (recall wrt positive class) = 98%<br>\n",
    "TNR (recall wrt negative class)= 22%<br>\n",
    "FPR = 78%<br>\n",
    "FNR = 2%<br>\n",
    "Precision wrt positive class = 0.88<br>\n",
    "Precision wrt negative class = 0.71<br>\n",
    "F1 score wrt positive class = 0.93<br>\n",
    "F1 score wrt negative class = 0.34<br>\n",
    "<br>\n",
    "\n"
   ]
  },
  {
   "cell_type": "markdown",
   "metadata": {},
   "source": [
    "### Conclusion\n",
    "Even after resampling of minority class using SMOTE we observe that Naive Bayes classifier fails miserably in distinguishing negative class from positive class. The ill effects of majority class (positive reviews) dominance are clearly visible in TNR above. More than 50% of negative reviews are being classified as positive.<br>\n",
    "This clearly shows that the 'naive' approximation although giving satifactory results in spam filters, is failing in this case and hence this classifier is not appropriate for text classifications in general."
   ]
  }
 ],
 "metadata": {
  "colab": {
   "default_view": {},
   "name": "Apply Naive Bayes to Amazon reviews [M].ipynb",
   "provenance": [],
   "version": "0.3.2",
   "views": {}
  },
  "kernelspec": {
   "display_name": "Python 3",
   "language": "python",
   "name": "python3"
  },
  "language_info": {
   "codemirror_mode": {
    "name": "ipython",
    "version": 3
   },
   "file_extension": ".py",
   "mimetype": "text/x-python",
   "name": "python",
   "nbconvert_exporter": "python",
   "pygments_lexer": "ipython3",
   "version": "3.6.3"
  }
 },
 "nbformat": 4,
 "nbformat_minor": 1
}
