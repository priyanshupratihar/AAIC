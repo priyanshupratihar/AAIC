{
 "cells": [
  {
   "cell_type": "code",
   "execution_count": 143,
   "metadata": {},
   "outputs": [
    {
     "name": "stdout",
     "output_type": "stream",
     "text": [
      "Requirement already satisfied: pandoc in /usr/local/lib/python3.6/site-packages\n",
      "Requirement already satisfied: ply in /usr/local/lib/python3.6/site-packages (from pandoc)\n",
      "\u001b[33mYou are using pip version 9.0.1, however version 10.0.1 is available.\n",
      "You should consider upgrading via the 'pip install --upgrade pip' command.\u001b[0m\n"
     ]
    }
   ],
   "source": [
    "!pip install --user pandoc"
   ]
  },
  {
   "cell_type": "code",
   "execution_count": 17,
   "metadata": {
    "collapsed": true
   },
   "outputs": [],
   "source": [
    "from sklearn.model_selection import train_test_split\n",
    "\n",
    "from sklearn.grid_search import GridSearchCV\n",
    "from sklearn.grid_search import RandomizedSearchCV\n",
    "from scipy.stats import uniform\n",
    "from scipy.stats import norm\n",
    "\n",
    "from imblearn.over_sampling import SMOTE\n",
    "\n",
    "import sqlite3\n",
    "\n",
    "import pandas as pd\n",
    "import numpy as np\n",
    "\n",
    "from sklearn.feature_extraction.text import TfidfVectorizer\n",
    "from sklearn.feature_extraction.text import CountVectorizer\n",
    "import gensim\n",
    "\n",
    "from sklearn.metrics import classification_report, accuracy_score, confusion_matrix\n",
    "\n",
    "from sklearn.preprocessing import StandardScaler"
   ]
  },
  {
   "cell_type": "code",
   "execution_count": 32,
   "metadata": {
    "collapsed": true
   },
   "outputs": [],
   "source": [
    "con = sqlite3.connect('final.sqlite') # this is cleaned dataset\n",
    "final = pd.read_sql_query(\"\"\"\n",
    "SELECT Score, Text_not_included\n",
    "FROM reviews\n",
    "\"\"\", con)[:15000]\n",
    "\n",
    "for i, seq in enumerate(final['Text_not_included']):\n",
    "  final['Text_not_included'][i]=final['Text_not_included'][i].decode('UTF-8')\n",
    "X_train, X_test, y_train , y_test = train_test_split(final['Text_not_included'], final['Score'], test_size=0.2, shuffle=False)"
   ]
  },
  {
   "cell_type": "code",
   "execution_count": 33,
   "metadata": {},
   "outputs": [
    {
     "name": "stderr",
     "output_type": "stream",
     "text": [
      "/usr/local/lib/python3.6/site-packages/sklearn/feature_extraction/text.py:1089: FutureWarning: Conversion of the second argument of issubdtype from `float` to `np.floating` is deprecated. In future, it will be treated as `np.float64 == np.dtype(float).type`.\n",
      "  if hasattr(X, 'dtype') and np.issubdtype(X.dtype, np.float):\n"
     ]
    }
   ],
   "source": [
    "tf_idf_vect=TfidfVectorizer(ngram_range=(1,2), min_df=10, dtype=float)\n",
    "tf_idf_vect.fit(X_train)\n",
    "tf_idf_train=tf_idf_vect.transform(X_train)\n",
    "tf_idf_test=tf_idf_vect.transform(X_test)"
   ]
  },
  {
   "cell_type": "code",
   "execution_count": 34,
   "metadata": {
    "collapsed": true
   },
   "outputs": [],
   "source": [
    "sentences=[]\n",
    "for review in X_train:\n",
    "  sentence=[]\n",
    "  for word in review.split():\n",
    "    sentence.append(word)\n",
    "  sentences.append(sentence)\n",
    "\n",
    "w2vec_model=gensim.models.word2vec.Word2Vec(sentences, min_count=10)\n",
    "\n",
    "avg_w2vec_train=np.zeros(shape=(len(X_train), 100), dtype=float)\n",
    "\n",
    "for i, sentence in enumerate(sentences):\n",
    "  for word in sentence:\n",
    "    try:\n",
    "      avg_w2vec_train[i]+=w2vec_model.wv[word]\n",
    "    \n",
    "    except KeyError:\n",
    "      pass\n",
    "  \n",
    "  avg_w2vec_train[i]/=len(sentence)\n",
    "\n",
    "sentences=[]\n",
    "for review in X_test:\n",
    "  sentence=[]\n",
    "  for word in review.split():\n",
    "    sentence.append(word)\n",
    "  sentences.append(sentence)\n",
    "\n",
    "avg_w2vec_test=np.zeros(shape=(len(X_test), 100), dtype=float)\n",
    "\n",
    "for i, sentence in enumerate(sentences):\n",
    "  for word in sentence:\n",
    "    try:\n",
    "      avg_w2vec_test[i]+=w2vec_model.wv[word]\n",
    "    \n",
    "    except KeyError:\n",
    "      pass\n",
    "  \n",
    "  avg_w2vec_test[i]/=len(sentence)"
   ]
  },
  {
   "cell_type": "code",
   "execution_count": 35,
   "metadata": {
    "collapsed": true
   },
   "outputs": [],
   "source": [
    "sentences=[]\n",
    "for review in X_train:\n",
    "  sentence=[]\n",
    "  for word in review.split():\n",
    "    sentence.append(word)\n",
    "  sentences.append(sentence)\n",
    "  \n",
    "tf_idf_w2vec_train=np.zeros((len(X_train), 100), dtype=float)\n",
    "feat=tf_idf_vect.get_feature_names()\n",
    "for i, sentence in enumerate(sentences):\n",
    "  tf_idf_sum=0\n",
    "  for word in sentence:\n",
    "    try:\n",
    "      tf_idf_w2vec_train[i]+=w2vec_model.wv[word]*tf_idf_train[i, feat.index(word)]\n",
    "      tf_idf_sum+=tf_idf_train[i, feat.index(word)]  \n",
    "    except KeyError:\n",
    "      pass\n",
    "    except ValueError:\n",
    "      pass\n",
    "  tf_idf_w2vec_train[i]/=tf_idf_sum\n",
    "  \n",
    "sentences=[]\n",
    "for review in X_test:\n",
    "  sentence=[]\n",
    "  for word in review.split():\n",
    "    sentence.append(word)\n",
    "  sentences.append(sentence)\n",
    "  \n",
    "tf_idf_w2vec_test=np.zeros((len(X_test), 100), dtype=float)\n",
    "\n",
    "for i, sentence in enumerate(sentences):\n",
    "  tf_idf_sum=0\n",
    "  for word in sentence:\n",
    "    try:\n",
    "      tf_idf_w2vec_test[i]+=w2vec_model.wv[word]*tf_idf_test[i, feat.index(word)]\n",
    "      tf_idf_sum+=tf_idf_test[i, feat.index(word)]  \n",
    "    except KeyError:\n",
    "      pass\n",
    "    except ValueError:\n",
    "      pass\n",
    "  tf_idf_w2vec_test[i]/=tf_idf_sum"
   ]
  },
  {
   "cell_type": "code",
   "execution_count": 106,
   "metadata": {
    "collapsed": true
   },
   "outputs": [],
   "source": [
    "# Upsampling minority class\n",
    "over_sampler = SMOTE(ratio='minority')\n",
    "\n",
    "avg_w2vec_train_resampled, y_train_resampled = over_sampler.fit_sample(avg_w2vec_train, y_train)\n",
    "tf_idf_w2vec_train_resampled, y_train_resampled = over_sampler.fit_sample(tf_idf_w2vec_train, y_train)"
   ]
  },
  {
   "cell_type": "code",
   "execution_count": 12,
   "metadata": {
    "collapsed": true
   },
   "outputs": [],
   "source": [
    "from sklearn.tree import DecisionTreeClassifier"
   ]
  },
  {
   "cell_type": "markdown",
   "metadata": {},
   "source": [
    "## Classification using avg_word2Vec"
   ]
  },
  {
   "cell_type": "code",
   "execution_count": 128,
   "metadata": {
    "collapsed": true
   },
   "outputs": [],
   "source": [
    "param_grid={'max_depth' : [i for i in range(1,20,1)]}\n",
    "\n",
    "gscv=GridSearchCV(DecisionTreeClassifier(), param_grid, scoring='accuracy', cv=5)"
   ]
  },
  {
   "cell_type": "code",
   "execution_count": 129,
   "metadata": {},
   "outputs": [
    {
     "name": "stdout",
     "output_type": "stream",
     "text": [
      "GridSearchCV(cv=5, error_score='raise',\n",
      "       estimator=DecisionTreeClassifier(class_weight=None, criterion='gini', max_depth=None,\n",
      "            max_features=None, max_leaf_nodes=None,\n",
      "            min_impurity_decrease=0.0, min_impurity_split=None,\n",
      "            min_samples_leaf=1, min_samples_split=2,\n",
      "            min_weight_fraction_leaf=0.0, presort=False, random_state=None,\n",
      "            splitter='best'),\n",
      "       fit_params={}, iid=True, n_jobs=1,\n",
      "       param_grid={'max_depth': [1, 2, 3, 4, 5, 6, 7, 8, 9, 10, 11, 12, 13, 14, 15, 16, 17, 18, 19]},\n",
      "       pre_dispatch='2*n_jobs', refit=True, scoring='accuracy', verbose=0)\n"
     ]
    }
   ],
   "source": [
    "print(gscv.fit(avg_w2vec_train_resampled, y_train_resampled))"
   ]
  },
  {
   "cell_type": "code",
   "execution_count": 130,
   "metadata": {},
   "outputs": [
    {
     "name": "stdout",
     "output_type": "stream",
     "text": [
      "             precision    recall  f1-score   support\n",
      "\n",
      "   negative       0.34      0.61      0.44       505\n",
      "   positive       0.91      0.76      0.83      2495\n",
      "\n",
      "avg / total       0.81      0.74      0.76      3000\n",
      "\n",
      "[[ 308  593]\n",
      " [ 197 1902]]\n",
      "TPR = 0.7623246492985972\n",
      " TNR = 0.6099009900990099\n",
      " FPR = 0.3900990099009901\n",
      " FNR = 0.2376753507014028\n"
     ]
    }
   ],
   "source": [
    "predictions = gscv.best_estimator_.predict(avg_w2vec_test)\n",
    "print(classification_report(y_test, predictions))\n",
    "print(confusion_matrix(y_test, predictions).T)\n",
    "tn, fp, fn, tp = confusion_matrix(y_test, predictions).ravel()\n",
    "\n",
    "print(\"TPR = {}\\n TNR = {}\\n FPR = {}\\n FNR = {}\".format(tp/(fn+tp), tn/(tn+fp), fp/(tn+fp), fn/(fn+tp)))"
   ]
  },
  {
   "cell_type": "code",
   "execution_count": 131,
   "metadata": {},
   "outputs": [
    {
     "data": {
      "text/plain": [
       "DecisionTreeClassifier(class_weight=None, criterion='gini', max_depth=16,\n",
       "            max_features=None, max_leaf_nodes=None,\n",
       "            min_impurity_decrease=0.0, min_impurity_split=None,\n",
       "            min_samples_leaf=1, min_samples_split=2,\n",
       "            min_weight_fraction_leaf=0.0, presort=False, random_state=None,\n",
       "            splitter='best')"
      ]
     },
     "execution_count": 131,
     "metadata": {},
     "output_type": "execute_result"
    }
   ],
   "source": [
    "gscv.best_estimator_"
   ]
  },
  {
   "cell_type": "markdown",
   "metadata": {},
   "source": [
    "## Classification using tfidf weighted word2vec"
   ]
  },
  {
   "cell_type": "code",
   "execution_count": 132,
   "metadata": {},
   "outputs": [
    {
     "name": "stdout",
     "output_type": "stream",
     "text": [
      "GridSearchCV(cv=5, error_score='raise',\n",
      "       estimator=DecisionTreeClassifier(class_weight=None, criterion='gini', max_depth=None,\n",
      "            max_features=None, max_leaf_nodes=None,\n",
      "            min_impurity_decrease=0.0, min_impurity_split=None,\n",
      "            min_samples_leaf=1, min_samples_split=2,\n",
      "            min_weight_fraction_leaf=0.0, presort=False, random_state=None,\n",
      "            splitter='best'),\n",
      "       fit_params={}, iid=True, n_jobs=1,\n",
      "       param_grid={'max_depth': [1, 2, 3, 4, 5, 6, 7, 8, 9, 10, 11, 12, 13, 14, 15, 16, 17, 18, 19]},\n",
      "       pre_dispatch='2*n_jobs', refit=True, scoring='accuracy', verbose=0)\n"
     ]
    }
   ],
   "source": [
    "print(gscv.fit(tf_idf_w2vec_train_resampled, y_train_resampled))"
   ]
  },
  {
   "cell_type": "code",
   "execution_count": 133,
   "metadata": {},
   "outputs": [
    {
     "name": "stdout",
     "output_type": "stream",
     "text": [
      "             precision    recall  f1-score   support\n",
      "\n",
      "   negative       0.32      0.57      0.41       505\n",
      "   positive       0.90      0.76      0.82      2495\n",
      "\n",
      "avg / total       0.80      0.73      0.75      3000\n",
      "\n",
      "[[ 289  606]\n",
      " [ 216 1889]]\n",
      "TPR = 0.7571142284569138\n",
      " TNR = 0.5722772277227722\n",
      " FPR = 0.4277227722772277\n",
      " FNR = 0.24288577154308616\n"
     ]
    }
   ],
   "source": [
    "predictions = gscv.best_estimator_.predict(tf_idf_w2vec_test)\n",
    "print(classification_report(y_test, predictions))\n",
    "print(confusion_matrix(y_test, predictions).T)\n",
    "tn, fp, fn, tp = confusion_matrix(y_test, predictions).ravel()\n",
    "\n",
    "print(\"TPR = {}\\n TNR = {}\\n FPR = {}\\n FNR = {}\".format(tp/(fn+tp), tn/(tn+fp), fp/(tn+fp), fn/(fn+tp)))"
   ]
  },
  {
   "cell_type": "code",
   "execution_count": 134,
   "metadata": {},
   "outputs": [
    {
     "data": {
      "text/plain": [
       "DecisionTreeClassifier(class_weight=None, criterion='gini', max_depth=18,\n",
       "            max_features=None, max_leaf_nodes=None,\n",
       "            min_impurity_decrease=0.0, min_impurity_split=None,\n",
       "            min_samples_leaf=1, min_samples_split=2,\n",
       "            min_weight_fraction_leaf=0.0, presort=False, random_state=None,\n",
       "            splitter='best')"
      ]
     },
     "execution_count": 134,
     "metadata": {},
     "output_type": "execute_result"
    }
   ],
   "source": [
    "gscv.best_estimator_"
   ]
  },
  {
   "cell_type": "markdown",
   "metadata": {},
   "source": [
    "## Effect of changing depth"
   ]
  },
  {
   "cell_type": "code",
   "execution_count": 79,
   "metadata": {
    "collapsed": true
   },
   "outputs": [],
   "source": [
    "import matplotlib.pyplot as plt\n",
    "%matplotlib inline"
   ]
  },
  {
   "cell_type": "code",
   "execution_count": 135,
   "metadata": {
    "collapsed": true
   },
   "outputs": [],
   "source": [
    "depths=range(1,30,1)\n",
    "\n",
    "accuracy=np.zeros((2,30))\n",
    "\n",
    "for d in depths:\n",
    "    clf_w2v=DecisionTreeClassifier(max_depth=d)\n",
    "    clf_w2v.fit(avg_w2vec_train_resampled, y_train_resampled)\n",
    "    \n",
    "    clf_tfidfw2v=DecisionTreeClassifier(max_depth=d)\n",
    "    clf_tfidfw2v.fit(tf_idf_w2vec_train_resampled, y_train_resampled)\n",
    "    \n",
    "    predictions_w2vec=clf_w2v.predict(avg_w2vec_test)\n",
    "    predictions_tfidfword2vec=clf_tfidfw2v.predict(tf_idf_w2vec_test)\n",
    "    \n",
    "    acc_w2v=accuracy_score(y_test, predictions_w2vec)\n",
    "    acc_tfidfw2v=accuracy_score(y_test, predictions_tfidfword2vec)\n",
    "    \n",
    "    accuracy[0,d-1]=acc_w2v\n",
    "    accuracy[1,d-1]=acc_tfidfw2v"
   ]
  },
  {
   "cell_type": "code",
   "execution_count": 140,
   "metadata": {},
   "outputs": [
    {
     "data": {
      "text/plain": [
       "[<matplotlib.lines.Line2D at 0x7f304d524438>]"
      ]
     },
     "execution_count": 140,
     "metadata": {},
     "output_type": "execute_result"
    },
    {
     "data": {
      "image/png": "[encoded data removed]",
      "text/plain": [
       "<matplotlib.figure.Figure at 0x7f304d1915f8>"
      ]
     },
     "metadata": {},
     "output_type": "display_data"
    }
   ],
   "source": [
    "plt.plot(depths, accuracy[1][:29])"
   ]
  },
  {
   "cell_type": "code",
   "execution_count": 141,
   "metadata": {},
   "outputs": [
    {
     "data": {
      "text/plain": [
       "[<matplotlib.lines.Line2D at 0x7f3047c5e898>]"
      ]
     },
     "execution_count": 141,
     "metadata": {},
     "output_type": "execute_result"
    },
    {
     "data": {
      "image/png": "[encoded data removed]",
      "text/plain": [
       "<matplotlib.figure.Figure at 0x7f304cd7f358>"
      ]
     },
     "metadata": {},
     "output_type": "display_data"
    }
   ],
   "source": [
    "plt.plot(depths, accuracy[0][:29])"
   ]
  },
  {
   "cell_type": "markdown",
   "metadata": {},
   "source": [
    "## Conclusion\n",
    "\n",
    "Ignoring a few irregularities, accuracy in general increases with depth upto some value of d and then starts decreasing<br><br>\n",
    "\n",
    "The ideal values of depth for both vector representations have been found<br>\n",
    "tfidf weighted : 18<br>\n",
    "avg word2vec : 16<br><br>\n",
    "\n",
    "Decisions trees provide a significant boost in training speed as opposed to SVMs and also offer better TNR"
   ]
  }
 ],
 "metadata": {
  "kernelspec": {
   "display_name": "Python 3",
   "language": "python",
   "name": "python3"
  },
  "language_info": {
   "codemirror_mode": {
    "name": "ipython",
    "version": 3
   },
   "file_extension": ".py",
   "mimetype": "text/x-python",
   "name": "python",
   "nbconvert_exporter": "python",
   "pygments_lexer": "ipython3",
   "version": "3.6.3"
  }
 },
 "nbformat": 4,
 "nbformat_minor": 2
}
