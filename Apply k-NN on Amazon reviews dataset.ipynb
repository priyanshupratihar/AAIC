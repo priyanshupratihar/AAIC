{
 "cells": [
  {
   "cell_type": "code",
   "execution_count": 1,
   "metadata": {
    "collapsed": true
   },
   "outputs": [],
   "source": [
    "%matplotlib inline\n",
    "import matplotlib.pyplot as plt\n",
    "import sqlite3\n",
    "import pandas as pd\n",
    "import numpy as np\n",
    "import nltk\n",
    "from sklearn.feature_extraction.text import TfidfVectorizer\n",
    "import re\n",
    "from sklearn.feature_extraction.text import CountVectorizer"
   ]
  },
  {
   "cell_type": "code",
   "execution_count": 17,
   "metadata": {
    "collapsed": true
   },
   "outputs": [],
   "source": [
    "con = sqlite3.connect('./clean_final') # this is cleaned dataset\n",
    "final = pd.read_sql_query(\"\"\"\n",
    "SELECT *\n",
    "FROM reviews\n",
    "\"\"\", con)"
   ]
  },
  {
   "cell_type": "code",
   "execution_count": 18,
   "metadata": {
    "collapsed": true
   },
   "outputs": [],
   "source": [
    "def cleanhtml(sentence): #function to clean the word of any html-tags\n",
    "    cleanr = re.compile('<.*?>')\n",
    "    cleantext = re.sub(cleanr, ' ', sentence)\n",
    "    return cleantext\n",
    "def cleanpunc(sentence): #function to clean the word of any punctuation or special characters\n",
    "    cleaned = re.sub(r'[?|!|\\'|\"|#]',r'',sentence)\n",
    "    cleaned = re.sub(r'[.|,|)|(|\\|/]',r' ',cleaned)\n",
    "    return  cleaned"
   ]
  },
  {
   "cell_type": "code",
   "execution_count": 19,
   "metadata": {},
   "outputs": [
    {
     "data": {
      "text/html": [
       "<div>\n",
       "<style>\n",
       "    .dataframe thead tr:only-child th {\n",
       "        text-align: right;\n",
       "    }\n",
       "\n",
       "    .dataframe thead th {\n",
       "        text-align: left;\n",
       "    }\n",
       "\n",
       "    .dataframe tbody tr th {\n",
       "        vertical-align: top;\n",
       "    }\n",
       "</style>\n",
       "<table border=\"1\" class=\"dataframe\">\n",
       "  <thead>\n",
       "    <tr style=\"text-align: right;\">\n",
       "      <th></th>\n",
       "      <th>level_0</th>\n",
       "      <th>index</th>\n",
       "      <th>Id</th>\n",
       "      <th>ProductId</th>\n",
       "      <th>UserId</th>\n",
       "      <th>ProfileName</th>\n",
       "      <th>HelpfulnessNumerator</th>\n",
       "      <th>HelpfulnessDenominator</th>\n",
       "      <th>Score</th>\n",
       "      <th>Time</th>\n",
       "      <th>Summary</th>\n",
       "      <th>Text</th>\n",
       "      <th>Text_not_included</th>\n",
       "      <th>Text_not_excluded</th>\n",
       "      <th>clean_review</th>\n",
       "      <th>stemmed_review</th>\n",
       "      <th>average_Word2Vec</th>\n",
       "      <th>tfidf_Word2Vec</th>\n",
       "    </tr>\n",
       "  </thead>\n",
       "  <tbody>\n",
       "    <tr>\n",
       "      <th>0</th>\n",
       "      <td>10618</td>\n",
       "      <td>16395</td>\n",
       "      <td>17899</td>\n",
       "      <td>B001EO653M</td>\n",
       "      <td>A21BMUL4UEY53N</td>\n",
       "      <td>chocoholic</td>\n",
       "      <td>0</td>\n",
       "      <td>0</td>\n",
       "      <td>positive</td>\n",
       "      <td>1294444800</td>\n",
       "      <td>Can't get much better than this.</td>\n",
       "      <td>This awesome mix is not your usual Hot Chocola...</td>\n",
       "      <td>b'awesom mix not usual hot chocol look not buy...</td>\n",
       "      <td>b'awesom mix usual hot chocol look buy product...</td>\n",
       "      <td>this awesome mix not your usual hot chocolate ...</td>\n",
       "      <td>b'this awesom mix not your usual hot chocol th...</td>\n",
       "      <td>b'\\xfa\\x82\\xbe\\xf4)O\\xe0\\xbf\\xd0\\x17t\\xdeO\\x94...</td>\n",
       "      <td>b'\\xb6\\xbdl\\xac~\\xb7\\xdd\\xbfXI\\xf0;\\x04&amp;\\xa4?\\...</td>\n",
       "    </tr>\n",
       "    <tr>\n",
       "      <th>1</th>\n",
       "      <td>5581</td>\n",
       "      <td>23132</td>\n",
       "      <td>25312</td>\n",
       "      <td>B000MDCDOG</td>\n",
       "      <td>A1E1AX7DE5S18X</td>\n",
       "      <td>Nirac</td>\n",
       "      <td>0</td>\n",
       "      <td>0</td>\n",
       "      <td>positive</td>\n",
       "      <td>1288224000</td>\n",
       "      <td>Wonderful...Too Expensive Here</td>\n",
       "      <td>I've never been a fan of tuna, however, after ...</td>\n",
       "      <td>b'ive never fan tuna howev tri sundri tomato b...</td>\n",
       "      <td>b'ive never fan tuna howev tri sundri tomato b...</td>\n",
       "      <td>ive never been fan tuna however after trying t...</td>\n",
       "      <td>b'ive never been fan tuna howev after tri this...</td>\n",
       "      <td>b'\\xd1E\\x17\\x914\\x9f\\xdd\\xbft\\xd1E\\x85\\xd8\\xc5...</td>\n",
       "      <td>b'\\xfc\\xd1jVr)\\xda\\xbfK]9*0\\x89\\x95?\\x06$\\xc2[...</td>\n",
       "    </tr>\n",
       "    <tr>\n",
       "      <th>2</th>\n",
       "      <td>10460</td>\n",
       "      <td>17867</td>\n",
       "      <td>19477</td>\n",
       "      <td>B001EO5PWO</td>\n",
       "      <td>A2YAHDOYQK3JJJ</td>\n",
       "      <td>Roger D. Lauzon \"coaterfreak\"</td>\n",
       "      <td>0</td>\n",
       "      <td>0</td>\n",
       "      <td>positive</td>\n",
       "      <td>1285459200</td>\n",
       "      <td>great spice</td>\n",
       "      <td>these are the same spices thare used on the fo...</td>\n",
       "      <td>b'spice thare use food network alway fresh gre...</td>\n",
       "      <td>b'spice thare use food network alway fresh gre...</td>\n",
       "      <td>these are the same spices thare used the food ...</td>\n",
       "      <td>b'these are the same spice thare use the food ...</td>\n",
       "      <td>b'\\xdb\\xb6m\\xfb\\x9f\\xa5\\xe3\\xbf%I\\x92$/G\\xa1?I...</td>\n",
       "      <td>b\"\\xf75\\xd4\\x9b\\xf1m\\xe3\\xbfo\\xf0m\\xa5\\xb0l\\xa...</td>\n",
       "    </tr>\n",
       "    <tr>\n",
       "      <th>3</th>\n",
       "      <td>6356</td>\n",
       "      <td>8644</td>\n",
       "      <td>9475</td>\n",
       "      <td>B000UBDKII</td>\n",
       "      <td>A2VRSADIZLOAU3</td>\n",
       "      <td>Anne Cummings \"annebanana\"</td>\n",
       "      <td>0</td>\n",
       "      <td>0</td>\n",
       "      <td>positive</td>\n",
       "      <td>1278115200</td>\n",
       "      <td>YUM</td>\n",
       "      <td>Great coffee.  We mix it with Godiva chocolate...</td>\n",
       "      <td>b'great coffe mix godiva chocol coffe regular ...</td>\n",
       "      <td>b'great coffe mix godiva chocol coffe regular ...</td>\n",
       "      <td>great coffee mix with godiva chocolate coffee ...</td>\n",
       "      <td>b'great coffe mix with godiva chocol coffe reg...</td>\n",
       "      <td>b\"\\x1c\\xc7q\\x8c\\xa0\\xa1\\xe2\\xbf\\xe48\\x8e\\xd3\\x...</td>\n",
       "      <td>b'\\xc8\\x16\\x8f\\xab\\xc6K\\xe2\\xbfB\\xb2d\\x8a\\xe2\\...</td>\n",
       "    </tr>\n",
       "    <tr>\n",
       "      <th>4</th>\n",
       "      <td>18558</td>\n",
       "      <td>15674</td>\n",
       "      <td>17140</td>\n",
       "      <td>B00408F3XC</td>\n",
       "      <td>A1RWB3QBIPL85Y</td>\n",
       "      <td>S. Largent \"Digital XTC\"</td>\n",
       "      <td>0</td>\n",
       "      <td>0</td>\n",
       "      <td>positive</td>\n",
       "      <td>1329264000</td>\n",
       "      <td>happy valentines day</td>\n",
       "      <td>delivered on time for v day, packaged very wel...</td>\n",
       "      <td>b'deliv time day packag well instruct fresh be...</td>\n",
       "      <td>b'deliv time day packag well instruct fresh be...</td>\n",
       "      <td>delivered time for day packaged very well with...</td>\n",
       "      <td>b'deliv time for day packag veri well with ins...</td>\n",
       "      <td>b'\\xab\\xaa\\xaaz\\xcc\\xb6\\xe0\\xbf\\xab\\xaa\\xea\\x8...</td>\n",
       "      <td>b'\\x00\\x8c0\\xb7\\x1d\\xbb\\xde\\xbfE\\\\\\x11VGM\\x95?...</td>\n",
       "    </tr>\n",
       "  </tbody>\n",
       "</table>\n",
       "</div>"
      ],
      "text/plain": [
       "   level_0  index     Id   ProductId          UserId  \\\n",
       "0    10618  16395  17899  B001EO653M  A21BMUL4UEY53N   \n",
       "1     5581  23132  25312  B000MDCDOG  A1E1AX7DE5S18X   \n",
       "2    10460  17867  19477  B001EO5PWO  A2YAHDOYQK3JJJ   \n",
       "3     6356   8644   9475  B000UBDKII  A2VRSADIZLOAU3   \n",
       "4    18558  15674  17140  B00408F3XC  A1RWB3QBIPL85Y   \n",
       "\n",
       "                     ProfileName  HelpfulnessNumerator  \\\n",
       "0                     chocoholic                     0   \n",
       "1                          Nirac                     0   \n",
       "2  Roger D. Lauzon \"coaterfreak\"                     0   \n",
       "3     Anne Cummings \"annebanana\"                     0   \n",
       "4       S. Largent \"Digital XTC\"                     0   \n",
       "\n",
       "   HelpfulnessDenominator     Score        Time  \\\n",
       "0                       0  positive  1294444800   \n",
       "1                       0  positive  1288224000   \n",
       "2                       0  positive  1285459200   \n",
       "3                       0  positive  1278115200   \n",
       "4                       0  positive  1329264000   \n",
       "\n",
       "                            Summary  \\\n",
       "0  Can't get much better than this.   \n",
       "1    Wonderful...Too Expensive Here   \n",
       "2                       great spice   \n",
       "3                               YUM   \n",
       "4              happy valentines day   \n",
       "\n",
       "                                                Text  \\\n",
       "0  This awesome mix is not your usual Hot Chocola...   \n",
       "1  I've never been a fan of tuna, however, after ...   \n",
       "2  these are the same spices thare used on the fo...   \n",
       "3  Great coffee.  We mix it with Godiva chocolate...   \n",
       "4  delivered on time for v day, packaged very wel...   \n",
       "\n",
       "                                   Text_not_included  \\\n",
       "0  b'awesom mix not usual hot chocol look not buy...   \n",
       "1  b'ive never fan tuna howev tri sundri tomato b...   \n",
       "2  b'spice thare use food network alway fresh gre...   \n",
       "3  b'great coffe mix godiva chocol coffe regular ...   \n",
       "4  b'deliv time day packag well instruct fresh be...   \n",
       "\n",
       "                                   Text_not_excluded  \\\n",
       "0  b'awesom mix usual hot chocol look buy product...   \n",
       "1  b'ive never fan tuna howev tri sundri tomato b...   \n",
       "2  b'spice thare use food network alway fresh gre...   \n",
       "3  b'great coffe mix godiva chocol coffe regular ...   \n",
       "4  b'deliv time day packag well instruct fresh be...   \n",
       "\n",
       "                                        clean_review  \\\n",
       "0  this awesome mix not your usual hot chocolate ...   \n",
       "1  ive never been fan tuna however after trying t...   \n",
       "2  these are the same spices thare used the food ...   \n",
       "3  great coffee mix with godiva chocolate coffee ...   \n",
       "4  delivered time for day packaged very well with...   \n",
       "\n",
       "                                      stemmed_review  \\\n",
       "0  b'this awesom mix not your usual hot chocol th...   \n",
       "1  b'ive never been fan tuna howev after tri this...   \n",
       "2  b'these are the same spice thare use the food ...   \n",
       "3  b'great coffe mix with godiva chocol coffe reg...   \n",
       "4  b'deliv time for day packag veri well with ins...   \n",
       "\n",
       "                                    average_Word2Vec  \\\n",
       "0  b'\\xfa\\x82\\xbe\\xf4)O\\xe0\\xbf\\xd0\\x17t\\xdeO\\x94...   \n",
       "1  b'\\xd1E\\x17\\x914\\x9f\\xdd\\xbft\\xd1E\\x85\\xd8\\xc5...   \n",
       "2  b'\\xdb\\xb6m\\xfb\\x9f\\xa5\\xe3\\xbf%I\\x92$/G\\xa1?I...   \n",
       "3  b\"\\x1c\\xc7q\\x8c\\xa0\\xa1\\xe2\\xbf\\xe48\\x8e\\xd3\\x...   \n",
       "4  b'\\xab\\xaa\\xaaz\\xcc\\xb6\\xe0\\xbf\\xab\\xaa\\xea\\x8...   \n",
       "\n",
       "                                      tfidf_Word2Vec  \n",
       "0  b'\\xb6\\xbdl\\xac~\\xb7\\xdd\\xbfXI\\xf0;\\x04&\\xa4?\\...  \n",
       "1  b'\\xfc\\xd1jVr)\\xda\\xbfK]9*0\\x89\\x95?\\x06$\\xc2[...  \n",
       "2  b\"\\xf75\\xd4\\x9b\\xf1m\\xe3\\xbfo\\xf0m\\xa5\\xb0l\\xa...  \n",
       "3  b'\\xc8\\x16\\x8f\\xab\\xc6K\\xe2\\xbfB\\xb2d\\x8a\\xe2\\...  \n",
       "4  b'\\x00\\x8c0\\xb7\\x1d\\xbb\\xde\\xbfE\\\\\\x11VGM\\x95?...  "
      ]
     },
     "execution_count": 19,
     "metadata": {},
     "output_type": "execute_result"
    }
   ],
   "source": [
    "final.head()"
   ]
  },
  {
   "cell_type": "code",
   "execution_count": 20,
   "metadata": {
    "collapsed": true
   },
   "outputs": [],
   "source": [
    "from nltk.corpus import stopwords"
   ]
  },
  {
   "cell_type": "markdown",
   "metadata": {},
   "source": [
    "### From previous exercise we know that excluding 'not' from set of stopwords improves separation between positive and negative reviews. At least for TF-IDF"
   ]
  },
  {
   "cell_type": "code",
   "execution_count": 21,
   "metadata": {
    "collapsed": true
   },
   "outputs": [],
   "source": [
    "sno = nltk.stem.SnowballStemmer('english') #initialising the snowball stemmer"
   ]
  },
  {
   "cell_type": "code",
   "execution_count": 22,
   "metadata": {
    "collapsed": true
   },
   "outputs": [],
   "source": [
    "# Stem 'clean_review'\n",
    "\n",
    "s=None\n",
    "\n",
    "stemmed_review=[]\n",
    "for sent in final['clean_review'].values:\n",
    "    \n",
    "    stems=[]\n",
    "    for w in sent.split():    \n",
    "                \n",
    "        stems.append(sno.stem(w).encode('utf8'))\n",
    "    \n",
    "    s=b' '.join(stems)\n",
    "    \n",
    "    \n",
    "    stemmed_review.append(s.decode())"
   ]
  },
  {
   "cell_type": "code",
   "execution_count": 23,
   "metadata": {
    "collapsed": true
   },
   "outputs": [],
   "source": [
    "\n",
    "final['stemmed_review']=stemmed_review"
   ]
  },
  {
   "cell_type": "code",
   "execution_count": 25,
   "metadata": {},
   "outputs": [
    {
     "data": {
      "text/plain": [
       "0    this awesom mix not your usual hot chocol that...\n",
       "1    ive never been fan tuna howev after tri this s...\n",
       "2    these are the same spice thare use the food ne...\n",
       "3    great coffe mix with godiva chocol coffe regul...\n",
       "4    deliv time for day packag veri well with instr...\n",
       "Name: stemmed_review, dtype: object"
      ]
     },
     "execution_count": 25,
     "metadata": {},
     "output_type": "execute_result"
    }
   ],
   "source": [
    "final['stemmed_review'].head()"
   ]
  },
  {
   "cell_type": "code",
   "execution_count": 30,
   "metadata": {},
   "outputs": [
    {
     "data": {
      "text/plain": [
       "0    10618\n",
       "1     5581\n",
       "2    10460\n",
       "3     6356\n",
       "4    18558\n",
       "Name: level_0, dtype: int64"
      ]
     },
     "execution_count": 30,
     "metadata": {},
     "output_type": "execute_result"
    }
   ],
   "source": [
    "final['level_0'].head()"
   ]
  },
  {
   "cell_type": "code",
   "execution_count": 46,
   "metadata": {
    "collapsed": true
   },
   "outputs": [],
   "source": [
    "db=sqlite3.connect('./clean_final.sqlite')\n",
    "cur=db.cursor()\n",
    "db.text_factory=str\n",
    "final.to_sql('reviews', db, if_exists='replace', index=False)"
   ]
  },
  {
   "cell_type": "code",
   "execution_count": 15,
   "metadata": {
    "collapsed": true
   },
   "outputs": [],
   "source": [
    "# Randomly sample 2500 points\n",
    "import random\n",
    "final=final.iloc[random.sample(range(len(final)), 2500)]"
   ]
  },
  {
   "cell_type": "code",
   "execution_count": 34,
   "metadata": {
    "collapsed": true
   },
   "outputs": [],
   "source": [
    "time_based_split=final.sort_values('Time')"
   ]
  },
  {
   "cell_type": "code",
   "execution_count": 37,
   "metadata": {
    "collapsed": true
   },
   "outputs": [],
   "source": [
    "time_based_split.Text_not_included=[s.decode() for s in time_based_split.Text_not_included.values]"
   ]
  },
  {
   "cell_type": "code",
   "execution_count": 39,
   "metadata": {
    "collapsed": true
   },
   "outputs": [],
   "source": [
    "time_based_split.Text_not_excluded=[s.decode() for s in time_based_split.Text_not_excluded.values]"
   ]
  },
  {
   "cell_type": "code",
   "execution_count": 42,
   "metadata": {
    "collapsed": true
   },
   "outputs": [],
   "source": [
    "time_based_split=time_based_split.drop('level_0', axis=1)"
   ]
  },
  {
   "cell_type": "code",
   "execution_count": 45,
   "metadata": {},
   "outputs": [
    {
     "data": {
      "text/html": [
       "<div>\n",
       "<style>\n",
       "    .dataframe thead tr:only-child th {\n",
       "        text-align: right;\n",
       "    }\n",
       "\n",
       "    .dataframe thead th {\n",
       "        text-align: left;\n",
       "    }\n",
       "\n",
       "    .dataframe tbody tr th {\n",
       "        vertical-align: top;\n",
       "    }\n",
       "</style>\n",
       "<table border=\"1\" class=\"dataframe\">\n",
       "  <thead>\n",
       "    <tr style=\"text-align: right;\">\n",
       "      <th></th>\n",
       "      <th>index</th>\n",
       "      <th>Id</th>\n",
       "      <th>ProductId</th>\n",
       "      <th>UserId</th>\n",
       "      <th>ProfileName</th>\n",
       "      <th>HelpfulnessNumerator</th>\n",
       "      <th>HelpfulnessDenominator</th>\n",
       "      <th>Score</th>\n",
       "      <th>Time</th>\n",
       "      <th>Summary</th>\n",
       "      <th>Text</th>\n",
       "      <th>Text_not_included</th>\n",
       "      <th>Text_not_excluded</th>\n",
       "      <th>clean_review</th>\n",
       "      <th>stemmed_review</th>\n",
       "      <th>average_Word2Vec</th>\n",
       "      <th>tfidf_Word2Vec</th>\n",
       "    </tr>\n",
       "  </thead>\n",
       "  <tbody>\n",
       "    <tr>\n",
       "      <th>1866</th>\n",
       "      <td>10992</td>\n",
       "      <td>11991</td>\n",
       "      <td>B0000T15M8</td>\n",
       "      <td>A2928LJN5IISB4</td>\n",
       "      <td>chatchi</td>\n",
       "      <td>5</td>\n",
       "      <td>5</td>\n",
       "      <td>positive</td>\n",
       "      <td>1067990400</td>\n",
       "      <td>The fruits of my labor</td>\n",
       "      <td>When chatchi's favorite afternoon treat became...</td>\n",
       "      <td>chatchi favorit afternoon treat becam mysteri ...</td>\n",
       "      <td>chatchi favorit afternoon treat becam mysteri ...</td>\n",
       "      <td>when chatchis favorite afternoon treat became ...</td>\n",
       "      <td>when chatchi favorit afternoon treat becam mys...</td>\n",
       "      <td>b'333v==\\xdb\\xbf\\xef\\xee\\xee\\xf9\\xf8\\xc4\\x9a?\\...</td>\n",
       "      <td>b'/\\x0b\\xfb+\\r\\xd4\\xce\\xbfk\";a1\\x1c\\x95?Uqc\\xd...</td>\n",
       "    </tr>\n",
       "    <tr>\n",
       "      <th>1793</th>\n",
       "      <td>6790</td>\n",
       "      <td>7432</td>\n",
       "      <td>B0001E1IME</td>\n",
       "      <td>A2IKCTD1I73PLW</td>\n",
       "      <td>Adeba</td>\n",
       "      <td>2</td>\n",
       "      <td>8</td>\n",
       "      <td>positive</td>\n",
       "      <td>1083456000</td>\n",
       "      <td>amazon monopoly/ripoff</td>\n",
       "      <td>love the snack.  wanted to buy a bunch.&lt;p&gt;ship...</td>\n",
       "      <td>love snack want buy bunch ship amazon price sn...</td>\n",
       "      <td>love snack want buy bunch ship amazon price sn...</td>\n",
       "      <td>love the snack wanted buy bunch shipping amazo...</td>\n",
       "      <td>love the snack want buy bunch ship amazon more...</td>\n",
       "      <td>b'\\x9a\\x99\\x99M\\x1e\\n\\xe2\\xbf\\xa8\\x83:t\\xec\\x8...</td>\n",
       "      <td>b'^\\x15\\xf3\\xe1X\\x08\\xe2\\xbf\\x11\\xe8W\\x13\\xa9\\...</td>\n",
       "    </tr>\n",
       "    <tr>\n",
       "      <th>330</th>\n",
       "      <td>1112</td>\n",
       "      <td>1206</td>\n",
       "      <td>B005O072PC</td>\n",
       "      <td>A3BD5B8Y8MY25X</td>\n",
       "      <td>J. L. K. \"special_k\"</td>\n",
       "      <td>13</td>\n",
       "      <td>14</td>\n",
       "      <td>positive</td>\n",
       "      <td>1088467200</td>\n",
       "      <td>The best twice baked potatoes you'll ever have!</td>\n",
       "      <td>Perfect year round with just about any meat di...</td>\n",
       "      <td>perfect year round meat dish omaha steak twice...</td>\n",
       "      <td>perfect year round meat dish omaha steak twice...</td>\n",
       "      <td>perfect year round with just about any meat di...</td>\n",
       "      <td>perfect year round with just about ani meat di...</td>\n",
       "      <td>b'F\\x17]\\xec\\x87G\\xdb\\xbf]t\\x11\\xd7\\xd3\\x87\\x9...</td>\n",
       "      <td>b'w^\\x1f\\xedP\\x16\\xd9\\xbf\\xe3\\xef\\xd6\\xe0\\x96\\...</td>\n",
       "    </tr>\n",
       "    <tr>\n",
       "      <th>365</th>\n",
       "      <td>14096</td>\n",
       "      <td>15390</td>\n",
       "      <td>B0002IMRTC</td>\n",
       "      <td>ALKOHQH542KO</td>\n",
       "      <td>G. Elliott</td>\n",
       "      <td>5</td>\n",
       "      <td>15</td>\n",
       "      <td>positive</td>\n",
       "      <td>1090281600</td>\n",
       "      <td>Peet says it's good.</td>\n",
       "      <td>So it must be good.  He never lies to me.  Eve...</td>\n",
       "      <td>must good never lie even skizip like drink str...</td>\n",
       "      <td>must good never lie even skizip like drink str...</td>\n",
       "      <td>must good never lies even skizip likes and all...</td>\n",
       "      <td>must good never lie even skizip like and all d...</td>\n",
       "      <td>b'333\\xfbR\\xa9\\xdf\\xbf\\xcd\\xcc\\xcc\\x92\\xbc\\xbb...</td>\n",
       "      <td>b'\\x1fU\\x91\\x9d\\xda{\\xdc\\xbf\\xcc\\xc1\\xba\\x88\\x...</td>\n",
       "    </tr>\n",
       "    <tr>\n",
       "      <th>659</th>\n",
       "      <td>5886</td>\n",
       "      <td>6374</td>\n",
       "      <td>B000084EKB</td>\n",
       "      <td>A1Z54EM24Y40LL</td>\n",
       "      <td>c2</td>\n",
       "      <td>0</td>\n",
       "      <td>0</td>\n",
       "      <td>positive</td>\n",
       "      <td>1091059200</td>\n",
       "      <td>Great food!</td>\n",
       "      <td>This version is ground.  NOt my current cat's ...</td>\n",
       "      <td>version ground not current cat favorit version...</td>\n",
       "      <td>version ground current cat favorit version rea...</td>\n",
       "      <td>this version ground not current cats favorite ...</td>\n",
       "      <td>this version ground not current cat favorit ve...</td>\n",
       "      <td>b'\\xc9g\\xddl\\x90\\xf4\\xdf\\xbf\\xc2\\x14\\xf9\\x04\\x...</td>\n",
       "      <td>b'3\\xc2\\t\\x1c\\xa8\\xf6\\xdd\\xbfc9\\xf4\\x95\\xe1\\r\\...</td>\n",
       "    </tr>\n",
       "  </tbody>\n",
       "</table>\n",
       "</div>"
      ],
      "text/plain": [
       "      index     Id   ProductId          UserId           ProfileName  \\\n",
       "1866  10992  11991  B0000T15M8  A2928LJN5IISB4               chatchi   \n",
       "1793   6790   7432  B0001E1IME  A2IKCTD1I73PLW                 Adeba   \n",
       "330    1112   1206  B005O072PC  A3BD5B8Y8MY25X  J. L. K. \"special_k\"   \n",
       "365   14096  15390  B0002IMRTC    ALKOHQH542KO            G. Elliott   \n",
       "659    5886   6374  B000084EKB  A1Z54EM24Y40LL                    c2   \n",
       "\n",
       "      HelpfulnessNumerator  HelpfulnessDenominator     Score        Time  \\\n",
       "1866                     5                       5  positive  1067990400   \n",
       "1793                     2                       8  positive  1083456000   \n",
       "330                     13                      14  positive  1088467200   \n",
       "365                      5                      15  positive  1090281600   \n",
       "659                      0                       0  positive  1091059200   \n",
       "\n",
       "                                              Summary  \\\n",
       "1866                           The fruits of my labor   \n",
       "1793                           amazon monopoly/ripoff   \n",
       "330   The best twice baked potatoes you'll ever have!   \n",
       "365                              Peet says it's good.   \n",
       "659                                       Great food!   \n",
       "\n",
       "                                                   Text  \\\n",
       "1866  When chatchi's favorite afternoon treat became...   \n",
       "1793  love the snack.  wanted to buy a bunch.<p>ship...   \n",
       "330   Perfect year round with just about any meat di...   \n",
       "365   So it must be good.  He never lies to me.  Eve...   \n",
       "659   This version is ground.  NOt my current cat's ...   \n",
       "\n",
       "                                      Text_not_included  \\\n",
       "1866  chatchi favorit afternoon treat becam mysteri ...   \n",
       "1793  love snack want buy bunch ship amazon price sn...   \n",
       "330   perfect year round meat dish omaha steak twice...   \n",
       "365   must good never lie even skizip like drink str...   \n",
       "659   version ground not current cat favorit version...   \n",
       "\n",
       "                                      Text_not_excluded  \\\n",
       "1866  chatchi favorit afternoon treat becam mysteri ...   \n",
       "1793  love snack want buy bunch ship amazon price sn...   \n",
       "330   perfect year round meat dish omaha steak twice...   \n",
       "365   must good never lie even skizip like drink str...   \n",
       "659   version ground current cat favorit version rea...   \n",
       "\n",
       "                                           clean_review  \\\n",
       "1866  when chatchis favorite afternoon treat became ...   \n",
       "1793  love the snack wanted buy bunch shipping amazo...   \n",
       "330   perfect year round with just about any meat di...   \n",
       "365   must good never lies even skizip likes and all...   \n",
       "659   this version ground not current cats favorite ...   \n",
       "\n",
       "                                         stemmed_review  \\\n",
       "1866  when chatchi favorit afternoon treat becam mys...   \n",
       "1793  love the snack want buy bunch ship amazon more...   \n",
       "330   perfect year round with just about ani meat di...   \n",
       "365   must good never lie even skizip like and all d...   \n",
       "659   this version ground not current cat favorit ve...   \n",
       "\n",
       "                                       average_Word2Vec  \\\n",
       "1866  b'333v==\\xdb\\xbf\\xef\\xee\\xee\\xf9\\xf8\\xc4\\x9a?\\...   \n",
       "1793  b'\\x9a\\x99\\x99M\\x1e\\n\\xe2\\xbf\\xa8\\x83:t\\xec\\x8...   \n",
       "330   b'F\\x17]\\xec\\x87G\\xdb\\xbf]t\\x11\\xd7\\xd3\\x87\\x9...   \n",
       "365   b'333\\xfbR\\xa9\\xdf\\xbf\\xcd\\xcc\\xcc\\x92\\xbc\\xbb...   \n",
       "659   b'\\xc9g\\xddl\\x90\\xf4\\xdf\\xbf\\xc2\\x14\\xf9\\x04\\x...   \n",
       "\n",
       "                                         tfidf_Word2Vec  \n",
       "1866  b'/\\x0b\\xfb+\\r\\xd4\\xce\\xbfk\";a1\\x1c\\x95?Uqc\\xd...  \n",
       "1793  b'^\\x15\\xf3\\xe1X\\x08\\xe2\\xbf\\x11\\xe8W\\x13\\xa9\\...  \n",
       "330   b'w^\\x1f\\xedP\\x16\\xd9\\xbf\\xe3\\xef\\xd6\\xe0\\x96\\...  \n",
       "365   b'\\x1fU\\x91\\x9d\\xda{\\xdc\\xbf\\xcc\\xc1\\xba\\x88\\x...  \n",
       "659   b'3\\xc2\\t\\x1c\\xa8\\xf6\\xdd\\xbfc9\\xf4\\x95\\xe1\\r\\...  "
      ]
     },
     "execution_count": 45,
     "metadata": {},
     "output_type": "execute_result"
    }
   ],
   "source": [
    "time_based_split.head()"
   ]
  },
  {
   "cell_type": "code",
   "execution_count": null,
   "metadata": {
    "collapsed": true
   },
   "outputs": [],
   "source": [
    "db=sqlite3.connect('./clean_final.sqlite')\n",
    "cur=db.cursor()\n",
    "db.text_factory=str\n",
    "time_based_split.to_sql('reviews', db, if_exists='replace', index=False)"
   ]
  },
  {
   "cell_type": "markdown",
   "metadata": {},
   "source": [
    "## TF-IDF vector"
   ]
  },
  {
   "cell_type": "code",
   "execution_count": 193,
   "metadata": {
    "collapsed": true
   },
   "outputs": [],
   "source": [
    "tf_idf = TfidfVectorizer(ngram_range=(1,2))\n",
    "bigrams_tf=tf_idf.fit_transform(time_based_split['Text_not_included'])\n",
    "bigrams_train_tf=bigrams_tf[:1750]\n",
    "bigrams_test_tf=bigrams_tf[1750:2500]"
   ]
  },
  {
   "cell_type": "markdown",
   "metadata": {},
   "source": [
    "## Average word2Vec vector"
   ]
  },
  {
   "cell_type": "code",
   "execution_count": 48,
   "metadata": {
    "collapsed": true
   },
   "outputs": [],
   "source": [
    "import gensim\n",
    "i=0\n",
    "list_of_sent=[]\n",
    "for sent in time_based_split['Text_not_included'].values:\n",
    "    filtered_sentence=[]\n",
    "    for w in sent.split():\n",
    "        filtered_sentence.append(w)\n",
    "    list_of_sent.append(filtered_sentence)"
   ]
  },
  {
   "cell_type": "code",
   "execution_count": 49,
   "metadata": {},
   "outputs": [
    {
     "data": {
      "text/plain": [
       "(2500,)"
      ]
     },
     "execution_count": 49,
     "metadata": {},
     "output_type": "execute_result"
    }
   ],
   "source": [
    "np.array(list_of_sent).shape"
   ]
  },
  {
   "cell_type": "code",
   "execution_count": 50,
   "metadata": {},
   "outputs": [
    {
     "name": "stderr",
     "output_type": "stream",
     "text": [
      "WARNING:gensim.models.base_any2vec:consider setting layer size to a multiple of 4 for greater performance\n"
     ]
    }
   ],
   "source": [
    "w2v_model=gensim.models.Word2Vec(list_of_sent,min_count=5,size=50, workers=4)"
   ]
  },
  {
   "cell_type": "code",
   "execution_count": 51,
   "metadata": {
    "collapsed": true
   },
   "outputs": [],
   "source": [
    "# average Word2Vec\n",
    "# compute average word2vec for each review.\n",
    "sent_vectors = []; # the avg-w2v for each sentence/review is stored in this list\n",
    "for sent in list_of_sent: # for each review/sentence\n",
    "    sent_vec = np.zeros(50) # as word vectors are of zero length\n",
    "    cnt_words =0; # num of words with a valid vector in the sentence/review\n",
    "    for word in sent: # for each word in a review/sentence\n",
    "        try:\n",
    "            vec = w2v_model.wv[word]\n",
    "            sent_vec += vec\n",
    "            cnt_words += 1\n",
    "        except:\n",
    "            pass\n",
    "    sent_vec /= cnt_words\n",
    "    sent_vectors.append(sent_vec)"
   ]
  },
  {
   "cell_type": "markdown",
   "metadata": {},
   "source": [
    "# TF-IDF word2Vec"
   ]
  },
  {
   "cell_type": "code",
   "execution_count": 52,
   "metadata": {
    "collapsed": true
   },
   "outputs": [],
   "source": [
    "tfidf_feat = tf_idf.get_feature_names() # tfidf words/col-names\n",
    "# final_tf_idf is the sparse matrix with row= sentence, col=word and cell_val = tfidf\n",
    "\n",
    "tfidf_sent_vectors = []; # the tfidf-w2v for each sentence/review is stored in this list\n",
    "row=0\n",
    "for sent in list_of_sent: # for each review/sentence\n",
    "    sent_vec = np.zeros(50) # as word vectors are of zero length\n",
    "    weight_sum =0; # num of words with a valid vector in the sentence/review\n",
    "    for word in sent: # for each word in a review/sentence\n",
    "        try:\n",
    "            vec = w2v_model.wv[word]\n",
    "            # obtain the tf_idfidf of a word in a sentence/review\n",
    "            tfidf = tf_idf_vect[row, tfidf_feat.index(word)]\n",
    "            sent_vec += (vec * tfidf)\n",
    "            weight_sum += tfidf\n",
    "        except:\n",
    "            pass\n",
    "    sent_vec /= weight_sum\n",
    "    tfidf_sent_vectors.append(sent_vec)\n",
    "    row += 1"
   ]
  },
  {
   "cell_type": "code",
   "execution_count": 53,
   "metadata": {},
   "outputs": [
    {
     "data": {
      "text/plain": [
       "array([ 0.7148837 ,  0.08005671, -0.03650757,  0.28071488,  0.27651436,\n",
       "       -0.11791959,  0.19611861, -0.3056778 ,  0.33357832, -0.38980113,\n",
       "        0.38191011,  0.04367037, -0.34364644,  0.40775464, -0.60267878,\n",
       "       -0.67429486, -0.07425891, -0.38215042,  0.5923246 , -0.17593618,\n",
       "        0.39752209,  0.19266622, -0.11856697, -0.19658204,  0.60234614,\n",
       "       -0.05947708, -0.02989638, -0.02909582,  0.23693911,  0.0119263 ,\n",
       "       -0.0016133 ,  0.13247287, -0.28407203,  0.11302154, -0.16785835,\n",
       "       -0.54972464, -0.29596767, -0.43512824, -0.26735326, -0.07841764,\n",
       "        0.15785508, -0.17558218, -0.27171402,  0.04191722,  0.05334444,\n",
       "       -0.11682048, -0.24933953,  0.20622117, -0.29056247, -0.20945565])"
      ]
     },
     "execution_count": 53,
     "metadata": {},
     "output_type": "execute_result"
    }
   ],
   "source": [
    "sent_vectors[0]"
   ]
  },
  {
   "cell_type": "code",
   "execution_count": 55,
   "metadata": {},
   "outputs": [
    {
     "data": {
      "text/plain": [
       "array(['positive', 'positive', 'positive', ..., 'positive', 'positive',\n",
       "       'negative'], dtype=object)"
      ]
     },
     "execution_count": 55,
     "metadata": {},
     "output_type": "execute_result"
    }
   ],
   "source": [
    "time_based_split['Score'].as_matrix()"
   ]
  },
  {
   "cell_type": "code",
   "execution_count": 2,
   "metadata": {
    "collapsed": true
   },
   "outputs": [],
   "source": [
    "from sklearn.preprocessing import StandardScaler, MinMaxScaler\n",
    "from sklearn.model_selection import train_test_split"
   ]
  },
  {
   "cell_type": "code",
   "execution_count": 104,
   "metadata": {},
   "outputs": [
    {
     "data": {
      "text/plain": [
       "array([-0.4256128 ,  0.02614202,  0.16407779,  0.08662151,  0.17497523,\n",
       "       -0.18193097,  0.0281729 ,  0.68341499,  0.17128933, -0.28271772,\n",
       "        0.50343395, -0.16118439,  0.25213345,  0.49005483,  0.25563263,\n",
       "        0.08423763,  0.40145238,  0.37542342, -0.31176805, -0.69918819,\n",
       "        0.52160808,  0.26135075, -0.45022561,  0.01511199, -0.088507  ,\n",
       "       -0.05023587,  0.0529531 , -0.12090148,  0.1561996 , -0.26825495,\n",
       "       -0.46496859,  0.15726482,  0.60949802, -0.12534812, -0.12280237,\n",
       "       -0.09772088, -0.51514824, -0.17853833,  0.07670793,  0.21406705,\n",
       "        0.0167552 ,  0.13813511,  0.41138902,  0.05027483,  0.33643198,\n",
       "       -0.09686825, -0.15950203, -0.1730536 ,  0.45132825,  0.25198714])"
      ]
     },
     "execution_count": 104,
     "metadata": {},
     "output_type": "execute_result"
    }
   ],
   "source": [
    "time_based_split.average_Word2Vec.loc[378]"
   ]
  },
  {
   "cell_type": "code",
   "execution_count": 56,
   "metadata": {
    "collapsed": true
   },
   "outputs": [],
   "source": [
    "X_train_avgw2v, X_test_avgw2v, y_train_avgw2v, y_test_avgw2v = train_test_split(sent_vectors, time_based_split['Score'].as_matrix(), test_size=0.3, shuffle=False)"
   ]
  },
  {
   "cell_type": "code",
   "execution_count": 57,
   "metadata": {
    "collapsed": true
   },
   "outputs": [],
   "source": [
    "X_train_tfidfw2v, X_test_tfidfw2v, y_train_tfidfw2v, y_test_tfidfw2v = train_test_split(tfidf_sent_vectors, time_based_split['Score'].as_matrix(), test_size=0.3, shuffle=False)"
   ]
  },
  {
   "cell_type": "markdown",
   "metadata": {},
   "source": [
    "## BoW vector"
   ]
  },
  {
   "cell_type": "code",
   "execution_count": 192,
   "metadata": {
    "collapsed": true
   },
   "outputs": [],
   "source": [
    "count_vect = CountVectorizer(ngram_range=(1,2) ) #in scikit-learn\n",
    "bigrams=count_vect.fit_transform(time_based_split['Text_not_included'])\n",
    "bigrams_train=bigrams[:1750]\n",
    "bigrams_test=bigrams[1750:2500]"
   ]
  },
  {
   "cell_type": "code",
   "execution_count": 59,
   "metadata": {
    "collapsed": true
   },
   "outputs": [],
   "source": [
    "from sklearn.neighbors import KNeighborsClassifier"
   ]
  },
  {
   "cell_type": "code",
   "execution_count": 60,
   "metadata": {
    "collapsed": true
   },
   "outputs": [],
   "source": [
    "from sklearn.cross_validation import cross_val_score\n",
    "from sklearn.metrics import accuracy_score"
   ]
  },
  {
   "cell_type": "markdown",
   "metadata": {},
   "source": [
    "## Classification using average word2Vec"
   ]
  },
  {
   "cell_type": "code",
   "execution_count": 142,
   "metadata": {
    "collapsed": true
   },
   "outputs": [],
   "source": [
    "a=np.ndarray(shape=(1750,50),dtype=float)"
   ]
  },
  {
   "cell_type": "code",
   "execution_count": 143,
   "metadata": {
    "collapsed": true
   },
   "outputs": [],
   "source": [
    "for i, d in enumerate(X_train_avgw2v):\n",
    "    a[i]=d"
   ]
  },
  {
   "cell_type": "code",
   "execution_count": 145,
   "metadata": {
    "collapsed": true
   },
   "outputs": [],
   "source": [
    "x=[]\n",
    "y=[]\n",
    "for k in range(1,1575,2):\n",
    "    model=KNeighborsClassifier(n_neighbors=k,weights='distance',algorithm='kd_tree')\n",
    "    avg_accuracy_w=np.mean(cross_val_score(model,a, y_train_avgw2v,cv=10, scoring='accuracy'))\n",
    "    x.append(k)\n",
    "    y.append(avg_accuracy_w)"
   ]
  },
  {
   "cell_type": "code",
   "execution_count": 146,
   "metadata": {},
   "outputs": [
    {
     "data": {
      "text/plain": [
       "(0.72685807583221373, 0.84400671742051059)"
      ]
     },
     "execution_count": 146,
     "metadata": {},
     "output_type": "execute_result"
    },
    {
     "data": {
      "image/png": "[encoded data removed]",
      "text/plain": [
       "<matplotlib.figure.Figure at 0x7f0c586194a8>"
      ]
     },
     "metadata": {},
     "output_type": "display_data"
    }
   ],
   "source": [
    "plt.plot( x,y, 'r.')\n",
    "plt.xlim(np.min(x), np.max(x))\n",
    "plt.ylim(np.min(y), np.max(y))"
   ]
  },
  {
   "cell_type": "code",
   "execution_count": 147,
   "metadata": {
    "scrolled": true
   },
   "outputs": [
    {
     "data": {
      "text/plain": [
       "10"
      ]
     },
     "execution_count": 147,
     "metadata": {},
     "output_type": "execute_result"
    }
   ],
   "source": [
    "np.argmax(y)"
   ]
  },
  {
   "cell_type": "code",
   "execution_count": 210,
   "metadata": {},
   "outputs": [
    {
     "data": {
      "text/plain": [
       "21"
      ]
     },
     "execution_count": 210,
     "metadata": {},
     "output_type": "execute_result"
    }
   ],
   "source": [
    "x[np.argmax(y)]"
   ]
  },
  {
   "cell_type": "code",
   "execution_count": 149,
   "metadata": {},
   "outputs": [
    {
     "data": {
      "text/plain": [
       "0.84400671742051059"
      ]
     },
     "execution_count": 149,
     "metadata": {},
     "output_type": "execute_result"
    }
   ],
   "source": [
    "np.max(y)"
   ]
  },
  {
   "cell_type": "code",
   "execution_count": 150,
   "metadata": {
    "scrolled": false
   },
   "outputs": [
    {
     "data": {
      "text/plain": [
       "0.72685807583221373"
      ]
     },
     "execution_count": 150,
     "metadata": {},
     "output_type": "execute_result"
    }
   ],
   "source": [
    "np.min(y)"
   ]
  },
  {
   "cell_type": "markdown",
   "metadata": {},
   "source": [
    "## Classification using weighted tfidf_word2Vec"
   ]
  },
  {
   "cell_type": "code",
   "execution_count": 132,
   "metadata": {
    "collapsed": true
   },
   "outputs": [],
   "source": [
    "b=np.ndarray(shape=(1750,50),dtype=float)\n",
    "for i, d in enumerate(X_train_tfidfw2v):\n",
    "    b[i]=d"
   ]
  },
  {
   "cell_type": "code",
   "execution_count": 134,
   "metadata": {
    "collapsed": true
   },
   "outputs": [],
   "source": [
    "x_tf=[]\n",
    "y_tf=[]\n",
    "for k in range(1,1575,2):\n",
    "    model=KNeighborsClassifier(n_neighbors=k,weights='distance',algorithm='kd_tree')\n",
    "    avg_accuracy=np.mean(cross_val_score(model,b, y_train_avgw2v,cv=10, scoring='accuracy'))\n",
    "    x_tf.append(k)\n",
    "    y_tf.append(avg_accuracy)"
   ]
  },
  {
   "cell_type": "code",
   "execution_count": 135,
   "metadata": {},
   "outputs": [
    {
     "data": {
      "text/plain": [
       "(0.75, 0.86)"
      ]
     },
     "execution_count": 135,
     "metadata": {},
     "output_type": "execute_result"
    },
    {
     "data": {
      "image/png": "[encoded data removed]",
      "text/plain": [
       "<matplotlib.figure.Figure at 0x7f0c4c86c748>"
      ]
     },
     "metadata": {},
     "output_type": "display_data"
    }
   ],
   "source": [
    "plt.plot( x_tf,y_tf, 'r.')\n",
    "plt.xlim(np.min(x_tf), np.max(x_tf))\n",
    "plt.ylim(np.min(y_tf), np.max(y_tf))"
   ]
  },
  {
   "cell_type": "code",
   "execution_count": 136,
   "metadata": {
    "scrolled": true
   },
   "outputs": [
    {
     "data": {
      "text/plain": [
       "8"
      ]
     },
     "execution_count": 136,
     "metadata": {},
     "output_type": "execute_result"
    }
   ],
   "source": [
    "np.argmax(y_tf)"
   ]
  },
  {
   "cell_type": "code",
   "execution_count": 211,
   "metadata": {},
   "outputs": [
    {
     "data": {
      "text/plain": [
       "17"
      ]
     },
     "execution_count": 211,
     "metadata": {},
     "output_type": "execute_result"
    }
   ],
   "source": [
    "x_tf[np.argmax(y_tf)]"
   ]
  },
  {
   "cell_type": "code",
   "execution_count": 138,
   "metadata": {},
   "outputs": [
    {
     "data": {
      "text/plain": [
       "0.84400671742051059"
      ]
     },
     "execution_count": 138,
     "metadata": {},
     "output_type": "execute_result"
    }
   ],
   "source": [
    "np.max(y_tf)"
   ]
  },
  {
   "cell_type": "code",
   "execution_count": 139,
   "metadata": {
    "scrolled": false
   },
   "outputs": [
    {
     "data": {
      "text/plain": [
       "0.74229403642334679"
      ]
     },
     "execution_count": 139,
     "metadata": {},
     "output_type": "execute_result"
    }
   ],
   "source": [
    "np.min(y_tf)"
   ]
  },
  {
   "cell_type": "markdown",
   "metadata": {},
   "source": [
    "## Classification using BoW"
   ]
  },
  {
   "cell_type": "code",
   "execution_count": null,
   "metadata": {},
   "outputs": [],
   "source": [
    "neighbors=[]\n",
    "accuracy=[]\n",
    "for k in range(1, 1574, 2):\n",
    "    model=KNeighborsClassifier(n_neighbors=k,algorithm='kd_tree', weights='distance')\n",
    "    avg_accuracy_bow=np.mean(cross_val_score(model, bigrams_train, y_train_avgw2v,cv=10))\n",
    "    neighbors.append(k)\n",
    "    accuracy.append(avg_accuracy_bow)"
   ]
  },
  {
   "cell_type": "code",
   "execution_count": 195,
   "metadata": {},
   "outputs": [
    {
     "data": {
      "text/plain": [
       "(0.83037050306015825, 0.84400671742051059)"
      ]
     },
     "execution_count": 195,
     "metadata": {},
     "output_type": "execute_result"
    },
    {
     "data": {
      "image/png": "[encoded data removed]",
      "text/plain": [
       "<matplotlib.figure.Figure at 0x7f0c2c6d5908>"
      ]
     },
     "metadata": {},
     "output_type": "display_data"
    }
   ],
   "source": [
    "plt.plot( neighbors,accuracy, 'r.')\n",
    "plt.xlim(np.min(neighbors), np.max(neighbors))\n",
    "plt.ylim(np.min(accuracy), np.max(accuracy))"
   ]
  },
  {
   "cell_type": "code",
   "execution_count": 196,
   "metadata": {},
   "outputs": [
    {
     "data": {
      "text/plain": [
       "4"
      ]
     },
     "execution_count": 196,
     "metadata": {},
     "output_type": "execute_result"
    }
   ],
   "source": [
    "np.argmax(accuracy)"
   ]
  },
  {
   "cell_type": "code",
   "execution_count": 197,
   "metadata": {},
   "outputs": [
    {
     "data": {
      "text/plain": [
       "9"
      ]
     },
     "execution_count": 197,
     "metadata": {},
     "output_type": "execute_result"
    }
   ],
   "source": [
    "neighbors[np.argmax(accuracy)]"
   ]
  },
  {
   "cell_type": "code",
   "execution_count": 198,
   "metadata": {},
   "outputs": [
    {
     "data": {
      "text/plain": [
       "0.84400671742051059"
      ]
     },
     "execution_count": 198,
     "metadata": {},
     "output_type": "execute_result"
    }
   ],
   "source": [
    "np.max(accuracy)"
   ]
  },
  {
   "cell_type": "code",
   "execution_count": 199,
   "metadata": {},
   "outputs": [
    {
     "data": {
      "text/plain": [
       "0.83037050306015825"
      ]
     },
     "execution_count": 199,
     "metadata": {},
     "output_type": "execute_result"
    }
   ],
   "source": [
    "np.min(accuracy)"
   ]
  },
  {
   "cell_type": "markdown",
   "metadata": {},
   "source": [
    "## Classification using TF-IDF - TSNE best performer"
   ]
  },
  {
   "cell_type": "code",
   "execution_count": null,
   "metadata": {},
   "outputs": [],
   "source": [
    "neighbors_tf=[]\n",
    "accuracy_tf=[]\n",
    "for k in range(1, 1574, 2):\n",
    "    model=KNeighborsClassifier(n_neighbors=k,algorithm='kd_tree', weights='distance',n_jobs=1)\n",
    "    avg_accuracy_tf=np.mean(cross_val_score(model, bigrams_train_tf, y_train_avgw2v,cv=10,n_jobs=1))\n",
    "    neighbors_tf.append(k)\n",
    "    accuracy_tf.append(avg_accuracy_tf)"
   ]
  },
  {
   "cell_type": "code",
   "execution_count": 201,
   "metadata": {},
   "outputs": [
    {
     "data": {
      "text/plain": [
       "(0.79150264964920136, 0.85258811016569636)"
      ]
     },
     "execution_count": 201,
     "metadata": {},
     "output_type": "execute_result"
    },
    {
     "data": {
      "image/png": "[encoded data removed]",
      "text/plain": [
       "<matplotlib.figure.Figure at 0x7f0c5836aba8>"
      ]
     },
     "metadata": {},
     "output_type": "display_data"
    }
   ],
   "source": [
    "plt.plot( neighbors_tf,accuracy_tf, 'r.')\n",
    "plt.xlim(np.min(neighbors_tf), np.max(neighbors_tf))\n",
    "plt.ylim(np.min(accuracy_tf), np.max(accuracy_tf))"
   ]
  },
  {
   "cell_type": "code",
   "execution_count": 202,
   "metadata": {},
   "outputs": [
    {
     "data": {
      "text/plain": [
       "3"
      ]
     },
     "execution_count": 202,
     "metadata": {},
     "output_type": "execute_result"
    }
   ],
   "source": [
    "np.argmax(accuracy_tf)"
   ]
  },
  {
   "cell_type": "code",
   "execution_count": 203,
   "metadata": {},
   "outputs": [
    {
     "data": {
      "text/plain": [
       "7"
      ]
     },
     "execution_count": 203,
     "metadata": {},
     "output_type": "execute_result"
    }
   ],
   "source": [
    "neighbors_tf[np.argmax(accuracy_tf)]"
   ]
  },
  {
   "cell_type": "code",
   "execution_count": 204,
   "metadata": {},
   "outputs": [
    {
     "data": {
      "text/plain": [
       "0.85258811016569636"
      ]
     },
     "execution_count": 204,
     "metadata": {},
     "output_type": "execute_result"
    }
   ],
   "source": [
    "np.max(accuracy_tf)"
   ]
  },
  {
   "cell_type": "markdown",
   "metadata": {},
   "source": [
    "## Tabulating the results"
   ]
  },
  {
   "cell_type": "code",
   "execution_count": 216,
   "metadata": {
    "collapsed": true
   },
   "outputs": [],
   "source": [
    "results=pd.DataFrame(columns=['vectorization_method', \n",
    "                             'max_accuracy_on_cross_validation_set', 'optimal_k'])"
   ]
  },
  {
   "cell_type": "code",
   "execution_count": 217,
   "metadata": {
    "collapsed": true
   },
   "outputs": [],
   "source": [
    "results=results.append(\n",
    "    [\n",
    "        {\n",
    "            'vectorization_method' : 'bag_of_words',\n",
    "            \n",
    "            'max_accuracy_on_cross_validation_set' : 0.84,\n",
    "            'optimal_k': 9\n",
    "        },\n",
    "        \n",
    "        {\n",
    "            'vectorization_method' : 'tf_idf',\n",
    "            \n",
    "            'max_accuracy_on_cross_validation_set' : 0.85,\n",
    "            'optimal_k': 9\n",
    "        },\n",
    "        \n",
    "        {\n",
    "            'vectorization_method' : 'average_word2Vec',\n",
    "            \n",
    "            'max_accuracy_on_cross_validation_set' : 0.84,\n",
    "            'optimal_k': 21\n",
    "        },\n",
    "        \n",
    "        {\n",
    "            'vectorization_method' : 'tf_idf_weighted_word2Vec',\n",
    "            \n",
    "            'max_accuracy_on_cross_validation_set' : 0.84,\n",
    "            'optimal_k' : 17\n",
    "        }\n",
    "    ]\n",
    ")"
   ]
  },
  {
   "cell_type": "code",
   "execution_count": 218,
   "metadata": {},
   "outputs": [
    {
     "data": {
      "text/html": [
       "<div>\n",
       "<style>\n",
       "    .dataframe thead tr:only-child th {\n",
       "        text-align: right;\n",
       "    }\n",
       "\n",
       "    .dataframe thead th {\n",
       "        text-align: left;\n",
       "    }\n",
       "\n",
       "    .dataframe tbody tr th {\n",
       "        vertical-align: top;\n",
       "    }\n",
       "</style>\n",
       "<table border=\"1\" class=\"dataframe\">\n",
       "  <thead>\n",
       "    <tr style=\"text-align: right;\">\n",
       "      <th></th>\n",
       "      <th>vectorization_method</th>\n",
       "      <th>max_accuracy_on_cross_validation_set</th>\n",
       "      <th>optimal_k</th>\n",
       "    </tr>\n",
       "  </thead>\n",
       "  <tbody>\n",
       "    <tr>\n",
       "      <th>0</th>\n",
       "      <td>bag_of_words</td>\n",
       "      <td>0.84</td>\n",
       "      <td>9</td>\n",
       "    </tr>\n",
       "    <tr>\n",
       "      <th>1</th>\n",
       "      <td>tf_idf</td>\n",
       "      <td>0.85</td>\n",
       "      <td>9</td>\n",
       "    </tr>\n",
       "    <tr>\n",
       "      <th>2</th>\n",
       "      <td>average_word2Vec</td>\n",
       "      <td>0.84</td>\n",
       "      <td>21</td>\n",
       "    </tr>\n",
       "    <tr>\n",
       "      <th>3</th>\n",
       "      <td>tf_idf_weighted_word2Vec</td>\n",
       "      <td>0.84</td>\n",
       "      <td>17</td>\n",
       "    </tr>\n",
       "  </tbody>\n",
       "</table>\n",
       "</div>"
      ],
      "text/plain": [
       "       vectorization_method  max_accuracy_on_cross_validation_set optimal_k\n",
       "0              bag_of_words                                  0.84         9\n",
       "1                    tf_idf                                  0.85         9\n",
       "2          average_word2Vec                                  0.84        21\n",
       "3  tf_idf_weighted_word2Vec                                  0.84        17"
      ]
     },
     "execution_count": 218,
     "metadata": {},
     "output_type": "execute_result"
    }
   ],
   "source": [
    "results"
   ]
  },
  {
   "cell_type": "markdown",
   "metadata": {},
   "source": [
    "## test data"
   ]
  },
  {
   "cell_type": "code",
   "execution_count": 219,
   "metadata": {
    "collapsed": true
   },
   "outputs": [],
   "source": [
    "test_set_accuracy=[]\n",
    "\n",
    "# bag_of_words\n",
    "model_bow=KNeighborsClassifier(n_neighbors=int(results[results.vectorization_method=='bag_of_words'].optimal_k),\n",
    "                              weights='distance', algorithm='brute')\n",
    "model_bow.fit(bigrams_train, y_train_avgw2v)\n",
    "test_set_accuracy.append(accuracy_score(y_test_avgw2v, model_bow.predict(bigrams_test)))\n",
    "\n",
    "# tf_idf\n",
    "model_tfidf=KNeighborsClassifier(n_neighbors=int(results[results.vectorization_method=='tf_idf'].optimal_k),\n",
    "                              weights='distance', algorithm='brute')\n",
    "model_tfidf.fit(bigrams_train_tf, y_train_tfidfw2v)\n",
    "test_set_accuracy.append(accuracy_score(y_test_avgw2v ,model_tfidf.predict(bigrams_test_tf)))\n",
    "\n",
    "# average_word2Vec\n",
    "model_avg_word2Vec = KNeighborsClassifier(n_neighbors=int(results[results.vectorization_method=='average_word2Vec'].optimal_k),\n",
    "                              weights='distance', algorithm='kd_tree')\n",
    "model_avg_word2Vec.fit(X_train_avgw2v, y_train_avgw2v)\n",
    "test_set_accuracy.append(accuracy_score(y_test_avgw2v ,model_avg_word2Vec.predict(X_test_avgw2v)))\n",
    "\n",
    "# tfidf weighted word2Vec\n",
    "model_tfidf_word2Vec = KNeighborsClassifier(n_neighbors=int(results[results.vectorization_method=='average_word2Vec'].optimal_k),\n",
    "                              weights='distance', algorithm='kd_tree')\n",
    "model_tfidf_word2Vec.fit(X_train_tfidfw2v, y_train_tfidfw2v)\n",
    "test_set_accuracy.append(accuracy_score(y_test_tfidfw2v ,model_tfidf_word2Vec.predict(X_test_tfidfw2v)))"
   ]
  },
  {
   "cell_type": "code",
   "execution_count": 220,
   "metadata": {
    "collapsed": true
   },
   "outputs": [],
   "source": [
    "results['test_set_outcome']=test_set_accuracy"
   ]
  },
  {
   "cell_type": "code",
   "execution_count": 221,
   "metadata": {},
   "outputs": [
    {
     "data": {
      "text/html": [
       "<div>\n",
       "<style>\n",
       "    .dataframe thead tr:only-child th {\n",
       "        text-align: right;\n",
       "    }\n",
       "\n",
       "    .dataframe thead th {\n",
       "        text-align: left;\n",
       "    }\n",
       "\n",
       "    .dataframe tbody tr th {\n",
       "        vertical-align: top;\n",
       "    }\n",
       "</style>\n",
       "<table border=\"1\" class=\"dataframe\">\n",
       "  <thead>\n",
       "    <tr style=\"text-align: right;\">\n",
       "      <th></th>\n",
       "      <th>vectorization_method</th>\n",
       "      <th>max_accuracy_on_cross_validation_set</th>\n",
       "      <th>optimal_k</th>\n",
       "      <th>test_set_outcome</th>\n",
       "    </tr>\n",
       "  </thead>\n",
       "  <tbody>\n",
       "    <tr>\n",
       "      <th>0</th>\n",
       "      <td>bag_of_words</td>\n",
       "      <td>0.84</td>\n",
       "      <td>9</td>\n",
       "      <td>0.822667</td>\n",
       "    </tr>\n",
       "    <tr>\n",
       "      <th>1</th>\n",
       "      <td>tf_idf</td>\n",
       "      <td>0.85</td>\n",
       "      <td>9</td>\n",
       "      <td>0.836000</td>\n",
       "    </tr>\n",
       "    <tr>\n",
       "      <th>2</th>\n",
       "      <td>average_word2Vec</td>\n",
       "      <td>0.84</td>\n",
       "      <td>21</td>\n",
       "      <td>0.822667</td>\n",
       "    </tr>\n",
       "    <tr>\n",
       "      <th>3</th>\n",
       "      <td>tf_idf_weighted_word2Vec</td>\n",
       "      <td>0.84</td>\n",
       "      <td>17</td>\n",
       "      <td>0.822667</td>\n",
       "    </tr>\n",
       "  </tbody>\n",
       "</table>\n",
       "</div>"
      ],
      "text/plain": [
       "       vectorization_method  max_accuracy_on_cross_validation_set optimal_k  \\\n",
       "0              bag_of_words                                  0.84         9   \n",
       "1                    tf_idf                                  0.85         9   \n",
       "2          average_word2Vec                                  0.84        21   \n",
       "3  tf_idf_weighted_word2Vec                                  0.84        17   \n",
       "\n",
       "   test_set_outcome  \n",
       "0          0.822667  \n",
       "1          0.836000  \n",
       "2          0.822667  \n",
       "3          0.822667  "
      ]
     },
     "execution_count": 221,
     "metadata": {},
     "output_type": "execute_result"
    }
   ],
   "source": [
    "results"
   ]
  },
  {
   "cell_type": "markdown",
   "metadata": {},
   "source": [
    "# Conclusion\n",
    "TF-IDF produces the most accurate vector representations of text reviews"
   ]
  }
 ],
 "metadata": {
  "kernelspec": {
   "display_name": "Python 3",
   "language": "python",
   "name": "python3"
  },
  "language_info": {
   "codemirror_mode": {
    "name": "ipython",
    "version": 3
   },
   "file_extension": ".py",
   "mimetype": "text/x-python",
   "name": "python",
   "nbconvert_exporter": "python",
   "pygments_lexer": "ipython3",
   "version": "3.6.3"
  }
 },
 "nbformat": 4,
 "nbformat_minor": 2
}
